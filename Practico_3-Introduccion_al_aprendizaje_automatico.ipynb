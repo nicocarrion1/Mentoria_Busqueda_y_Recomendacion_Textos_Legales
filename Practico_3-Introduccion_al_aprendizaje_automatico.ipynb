{
 "cells": [
  {
   "cell_type": "markdown",
   "metadata": {},
   "source": [
    "### Universidad Nacional de Córdoba - Facultad de Matemática, Astronomía, Física y Computación\n",
    "\n",
    "### Diplomatura en Ciencia de Datos, Aprendizaje Automático y sus Aplicaciones 2021\n",
    "Búsqueda y Recomendación para Textos Legales\n",
    "\n",
    "Mentor: Jorge E. Pérez Villella\n",
    "\n",
    "# Práctico Introducción al Aprendizaje Automático\n",
    "\n",
    "Integrantes: Carrion Nicolas, Delgado Gabriel"
   ]
  },
  {
   "cell_type": "markdown",
   "metadata": {},
   "source": [
    "El objetivo de este práctico es probar distintos modelos de clasificación para evaluar la performance y la exactitud de predicción de cada modelo. \n",
    "\n",
    "* Utilizando el corpus normalizado en el práctico anterior, transformar el texto en vectores numéricos utilizando scikit-learn comparando los 3 modelos de vectorización. Explicar cada uno estos modelos.\n",
    "\n",
    "* Clasificar los documentos por fuero. Trabajaremos con los siguientes modelos de clasificación de la librería scikit-learn: Logistic Regresion, Naive Bayes y SVM. En cada modelo probar distintos hiperparámetros, generar la Matriz de Confusión y la Curva ROC. Explicar los resultados obtenidos.\n",
    "\n",
    "* Determinar y justificar cual es el modelo con mejor performance y predecir el fuero de un documento utilizando el mejor modelo.\n"
   ]
  },
  {
   "cell_type": "markdown",
   "metadata": {},
   "source": [
    "Fecha de Entrega: 15 de agosto de 2021"
   ]
  },
  {
   "cell_type": "code",
   "execution_count": 21,
   "metadata": {},
   "outputs": [],
   "source": [
    "import os\n",
    "import pandas as pd\n",
    "import matplotlib.pyplot as plt\n",
    "import seaborn as sns\n",
    "import numpy as np\n",
    "import random\n",
    "\n",
    "from nltk.tokenize import RegexpTokenizer\n",
    "from nltk.corpus import stopwords\n",
    "from nltk.stem import SnowballStemmer\n",
    "\n",
    "from sklearn.feature_extraction.text import CountVectorizer, TfidfVectorizer, HashingVectorizer\n",
    "\n",
    "from sklearn.model_selection import train_test_split, GridSearchCV\n",
    "\n",
    "from sklearn.linear_model import LogisticRegression\n",
    "from sklearn.naive_bayes import MultinomialNB\n",
    "from sklearn.svm import SVC\n",
    "\n",
    "from sklearn.metrics import classification_report, confusion_matrix, accuracy_score, precision_score, recall_score, f1_score\n",
    "\n",
    "import itertools"
   ]
  },
  {
   "cell_type": "code",
   "execution_count": 22,
   "metadata": {},
   "outputs": [],
   "source": [
    "def getListOfFiles(dirName, quantity=None):\n",
    "    # create a list of file and sub directories \n",
    "    # names in the given directory\n",
    "    files = os.listdir(dirName)\n",
    "    allFiles = list()\n",
    "    # Iterate over all the entries\n",
    "    if not quantity:\n",
    "        for file in files:\n",
    "            # Create full path\n",
    "            fullPath = dirName + \"\\\\\" + file\n",
    "            # If entry is a directory then get the list of files in this directory \n",
    "            if os.path.isdir(fullPath) and not quantity:\n",
    "                allFiles = allFiles + getListOfFiles(fullPath)\n",
    "            else:\n",
    "                allFiles.append(fullPath)\n",
    "    else:\n",
    "        allFiles = allFiles + getListOfFiles(dirName)[:quantity]\n",
    "    return allFiles\n",
    "\n",
    "def create_corpus(file):\n",
    "    corpus=[]\n",
    "    f = open (file,'r', encoding=\"utf8\")\n",
    "    corpus=f.read()\n",
    "    return corpus\n",
    "\n",
    "\n",
    "def plot_confusion_matrix(cm, classes,\n",
    "                          normalize=False,\n",
    "                          title='Confusion matrix',\n",
    "                          cmap=plt.cm.Blues):\n",
    "    \"\"\"\n",
    "    This function prints and plots the confusion matrix.\n",
    "    Normalization can be applied by setting `normalize=True`.\n",
    "    \"\"\"\n",
    "    if normalize:\n",
    "        cm = cm.astype('float') / cm.sum(axis=1)[:, np.newaxis]\n",
    "\n",
    "    plt.imshow(cm, interpolation='nearest', cmap=cmap)\n",
    "    plt.title(title)\n",
    "    plt.colorbar()\n",
    "    tick_marks = np.arange(len(classes))\n",
    "    plt.xticks(tick_marks, classes, rotation=45)\n",
    "    plt.yticks(tick_marks, classes)\n",
    "\n",
    "    fmt = '.2f' if normalize else 'd'\n",
    "    thresh = cm.max() / 2.\n",
    "    for i, j in itertools.product(range(cm.shape[0]), range(cm.shape[1])):\n",
    "        plt.text(j, i, format(cm[i, j], fmt),\n",
    "                 horizontalalignment=\"center\",\n",
    "                 color=\"white\" if cm[i, j] > thresh else \"black\")\n",
    "\n",
    "    plt.tight_layout()\n",
    "    plt.ylabel('Etiqueta correcta')\n",
    "    plt.xlabel('Etiqueta predicha')\n",
    "    \n",
    "\n",
    "cant_letters=2\n",
    "def normalize(s):\n",
    "    replacements = (\n",
    "        (\"á\", \"a\"),\n",
    "        (\"é\", \"e\"),\n",
    "        (\"í\", \"i\"),\n",
    "        (\"ó\", \"o\"),\n",
    "        (\"ú\", \"u\"),\n",
    "    )\n",
    "    for a, b in replacements:\n",
    "        s = s.replace(a, b)\n",
    "    return s\n",
    "def limpieza_curacion(file):\n",
    "    tokenizer = RegexpTokenizer(r'\\w+')\n",
    "    tokens=tokenizer.tokenize(file)\n",
    "    \n",
    "    tokens_normalize = [normalize(word) for word in tokens]\n",
    "    \n",
    "    tokens_normalize=[token for token in tokens_normalize if len(token) > cant_letters]\n",
    "    \n",
    "    file_stopwords='stopwords.txt'\n",
    "    f = open (file_stopwords,'r', encoding=\"utf-8\")\n",
    "    stopwords_list=f.read()\n",
    "    #stopwords_list.replace('\\n', ' ')\n",
    "    stopwords_tokens=tokenizer.tokenize(stopwords_list)\n",
    "    stopwords_tokens=stopwords.words('spanish')\n",
    "    stopwords_tokens.extend(stopwords_tokens)\n",
    "    words = [token for token in tokens_normalize if token not in stopwords_tokens]\n",
    "    \n",
    "\n",
    "    spanish_stemmer = SnowballStemmer('spanish')\n",
    "    tokens_stemm=[spanish_stemmer.stem(word) for word in words]\n",
    "    \n",
    "    return tokens_stemm\n",
    "\n",
    "\n",
    "def metrics_models(model, X_train, X_test, y_train, y_test):\n",
    "    model.fit(X_train, y_train)\n",
    "    model_predict = model.predict(X_test)\n",
    "    print('Metricas\\n')\n",
    "    print(classification_report(y_test, model_predict,zero_division=0))\n",
    "    cm = confusion_matrix(y_test, model_predict, labels=['FAMILIA', 'LABORAL', 'MENORES', 'PENAL'])\n",
    "    plot_confusion_matrix(cm, ['FAMILIA', 'LABORAL', 'MENORES', 'PENAL'])\n",
    "    print(\"Accuracy:\", round(accuracy_score(y_test, model_predict), 2))\n",
    "    print(\"Precision:\", round(precision_score(y_test, model_predict, average='macro'),2))\n",
    "    print(\"Recall:\", round(recall_score(y_test, model_predict, average='macro'),2))\n",
    "    print(\"F1 score:\", round(f1_score(y_test, model_predict, average='macro'),2))\n",
    "    \n",
    "def hyper(model, X_train, X_test, y_train, y_test):\n",
    "    if model == 'LR':\n",
    "        param_grid = {'penalty': ['l1', 'l2', 'none'],\n",
    "                      'solver': ['lbfgs', 'liblinear', 'sag', 'saga'],\n",
    "                      'C': [0.01, 0.1, 1, 10],\n",
    "                      'max_iter': [5,25,50],\n",
    "                      'class_weight': [None, 'balanced']}\n",
    "        model1 = LogisticRegression()\n",
    "    elif model == 'NB':\n",
    "        param_grid = {'alpha': np.random.uniform(0,5,100),\n",
    "                     'fit_prior': [True, False]}\n",
    "        model1 = MultinomialNB()\n",
    "    elif model == 'SVM':\n",
    "        param_grid = {'kernel': ['linear','poly','rbf'],\n",
    "                      'gamma': ['scale', 'auto'],\n",
    "                      'C' : [0.1, 1, 10],\n",
    "                      'degree': [1,5,10],\n",
    "                      'decision_function_shape': ['ovo', 'ovr']}\n",
    "        model1 = SVC()\n",
    "    else:\n",
    "        return print('Modelo no valido')\n",
    "\n",
    "    gsCV = GridSearchCV(model1, param_grid = param_grid, cv = 5, scoring = 'f1_macro').fit(X_train, y_train)\n",
    "    \n",
    "    print('Mejores hiperparametros: ', gsCV.best_estimator_)\n",
    "    \n",
    "    metrics_models(gsCV, X_train, X_test, y_train, y_test)\n",
    "    \n",
    "    return gsCV\n",
    "\n",
    "\n",
    "def prediccion(model, vectorizer_transform, files):\n",
    "    data_predict= pd.DataFrame(files, columns=['file'])\n",
    "    data_predict['fuero']= data_predict['file'].apply(lambda x: x.split('\\\\')[-2])\n",
    "    data_predict['texto']= data_predict['file'].apply(lambda x: create_corpus(x))\n",
    "    data_predict['texto']= data_predict['texto'].apply(lambda x: ' '.join(limpieza_curacion(x)))\n",
    "    X_predict,Y_predict=transform.transform(data_predict['texto']), data_predict['fuero']\n",
    "    predict = model.predict(X_predict)\n",
    "    print(classification_report(Y_predict, predict,zero_division=0))\n",
    "    cm = confusion_matrix(Y_predict, predict, labels=['FAMILIA', 'LABORAL', 'MENORES', 'PENAL'])\n",
    "    plot_confusion_matrix(cm, ['FAMILIA', 'LABORAL', 'MENORES', 'PENAL'])\n",
    "    print(\"Las prediccion sobre los documentos fueron: \",predict)\n",
    "    print(\"Los valores reales sobre los documentos es: \", Y_predict.tolist())"
   ]
  },
  {
   "cell_type": "markdown",
   "metadata": {},
   "source": [
    "Se crea y normaliza el Corpus.\n",
    "\n",
    "\n",
    "Ademas se crea un dataframa donde se divide el corpus por fuero para una mayor facilidad en el manejo de los algoritmos de clasificacion que se van a usar en esta entrega"
   ]
  },
  {
   "cell_type": "code",
   "execution_count": 23,
   "metadata": {},
   "outputs": [],
   "source": [
    "fueros=['FAMILIA', 'LABORAL', 'MENORES', 'PENAL']\n",
    "root=os.getcwd()\n",
    "dirname=f'{root}\\\\Documentos'\n",
    "files=getListOfFiles(dirname)"
   ]
  },
  {
   "cell_type": "markdown",
   "metadata": {},
   "source": [
    "Separamos 4 documentos (podrian ser mas) del conjunto que se va a utilizar para entrenar y validar, con el fin de hacer una ultima prueba sobre el mejor modelo y ver de forma 100% real como clasifica, ya que estos archivos no fueron vistos nunca por el modelo. "
   ]
  },
  {
   "cell_type": "code",
   "execution_count": 24,
   "metadata": {},
   "outputs": [],
   "source": [
    "files_for_final_testing= 4\n",
    "test_files=random.sample(files, files_for_final_testing)\n",
    "for file in test_files:\n",
    "    files.remove(file)"
   ]
  },
  {
   "cell_type": "code",
   "execution_count": 25,
   "metadata": {},
   "outputs": [
    {
     "data": {
      "text/plain": [
       "['C:\\\\Users\\\\Usuario\\\\Mentoria_Busqueda_y_Recomendacion_Textos_Legales\\\\Documentos\\\\PENAL\\\\045-Coudray, Matilde Rosa (Echeto, Rosa Edelma).pdf.txt',\n",
       " 'C:\\\\Users\\\\Usuario\\\\Mentoria_Busqueda_y_Recomendacion_Textos_Legales\\\\Documentos\\\\FAMILIA\\\\C., A. -DENUNCIA POR VIOLENCIA DE GÉNERO - RECURSO DE APELACIÓN.doc.txt',\n",
       " 'C:\\\\Users\\\\Usuario\\\\Mentoria_Busqueda_y_Recomendacion_Textos_Legales\\\\Documentos\\\\LABORAL\\\\90 FUNES-COYSPU.pdf.txt',\n",
       " 'C:\\\\Users\\\\Usuario\\\\Mentoria_Busqueda_y_Recomendacion_Textos_Legales\\\\Documentos\\\\FAMILIA\\\\B.D.M.- SOLICITA MEDIDAS CAUTELARES- COMUNI. INTERJURISDICCIONAL.doc.txt']"
      ]
     },
     "execution_count": 25,
     "metadata": {},
     "output_type": "execute_result"
    }
   ],
   "source": [
    "test_files"
   ]
  },
  {
   "cell_type": "code",
   "execution_count": 26,
   "metadata": {},
   "outputs": [
    {
     "data": {
      "text/plain": [
       "FAMILIA    122\n",
       "PENAL       52\n",
       "LABORAL     36\n",
       "MENORES     29\n",
       "Name: fuero, dtype: int64"
      ]
     },
     "execution_count": 26,
     "metadata": {},
     "output_type": "execute_result"
    }
   ],
   "source": [
    "data= pd.DataFrame(files, columns=['file'])\n",
    "data['fuero']= data['file'].apply(lambda x: x.split('\\\\')[-2])\n",
    "data['texto']= data['file'].apply(lambda x: create_corpus(x))\n",
    "data['texto']= data['texto'].apply(lambda x: ' '.join(limpieza_curacion(x)))\n",
    "data['fuero'].value_counts()"
   ]
  },
  {
   "cell_type": "code",
   "execution_count": 27,
   "metadata": {},
   "outputs": [
    {
     "data": {
      "text/html": [
       "<div>\n",
       "<style scoped>\n",
       "    .dataframe tbody tr th:only-of-type {\n",
       "        vertical-align: middle;\n",
       "    }\n",
       "\n",
       "    .dataframe tbody tr th {\n",
       "        vertical-align: top;\n",
       "    }\n",
       "\n",
       "    .dataframe thead th {\n",
       "        text-align: right;\n",
       "    }\n",
       "</style>\n",
       "<table border=\"1\" class=\"dataframe\">\n",
       "  <thead>\n",
       "    <tr style=\"text-align: right;\">\n",
       "      <th></th>\n",
       "      <th>file</th>\n",
       "      <th>fuero</th>\n",
       "      <th>texto</th>\n",
       "    </tr>\n",
       "  </thead>\n",
       "  <tbody>\n",
       "    <tr>\n",
       "      <th>0</th>\n",
       "      <td>C:\\Users\\Usuario\\Mentoria_Busqueda_y_Recomenda...</td>\n",
       "      <td>FAMILIA</td>\n",
       "      <td>aut 122 547 552 cordob veinticuatr septiembr d...</td>\n",
       "    </tr>\n",
       "    <tr>\n",
       "      <th>1</th>\n",
       "      <td>C:\\Users\\Usuario\\Mentoria_Busqueda_y_Recomenda...</td>\n",
       "      <td>FAMILIA</td>\n",
       "      <td>aut cordob nuev febrer dos mil diecioch vist e...</td>\n",
       "    </tr>\n",
       "    <tr>\n",
       "      <th>2</th>\n",
       "      <td>C:\\Users\\Usuario\\Mentoria_Busqueda_y_Recomenda...</td>\n",
       "      <td>FAMILIA</td>\n",
       "      <td>dat caus sed ciud cordob dependent cam famili ...</td>\n",
       "    </tr>\n",
       "    <tr>\n",
       "      <th>3</th>\n",
       "      <td>C:\\Users\\Usuario\\Mentoria_Busqueda_y_Recomenda...</td>\n",
       "      <td>FAMILIA</td>\n",
       "      <td>cam famili nominacion cordob resolucion aut 10...</td>\n",
       "    </tr>\n",
       "    <tr>\n",
       "      <th>4</th>\n",
       "      <td>C:\\Users\\Usuario\\Mentoria_Busqueda_y_Recomenda...</td>\n",
       "      <td>FAMILIA</td>\n",
       "      <td>aut 164 fech 2016 cordob quinc noviembr dos mi...</td>\n",
       "    </tr>\n",
       "  </tbody>\n",
       "</table>\n",
       "</div>"
      ],
      "text/plain": [
       "                                                file    fuero  \\\n",
       "0  C:\\Users\\Usuario\\Mentoria_Busqueda_y_Recomenda...  FAMILIA   \n",
       "1  C:\\Users\\Usuario\\Mentoria_Busqueda_y_Recomenda...  FAMILIA   \n",
       "2  C:\\Users\\Usuario\\Mentoria_Busqueda_y_Recomenda...  FAMILIA   \n",
       "3  C:\\Users\\Usuario\\Mentoria_Busqueda_y_Recomenda...  FAMILIA   \n",
       "4  C:\\Users\\Usuario\\Mentoria_Busqueda_y_Recomenda...  FAMILIA   \n",
       "\n",
       "                                               texto  \n",
       "0  aut 122 547 552 cordob veinticuatr septiembr d...  \n",
       "1  aut cordob nuev febrer dos mil diecioch vist e...  \n",
       "2  dat caus sed ciud cordob dependent cam famili ...  \n",
       "3  cam famili nominacion cordob resolucion aut 10...  \n",
       "4  aut 164 fech 2016 cordob quinc noviembr dos mi...  "
      ]
     },
     "execution_count": 27,
     "metadata": {},
     "output_type": "execute_result"
    }
   ],
   "source": [
    "data.head()"
   ]
  },
  {
   "cell_type": "markdown",
   "metadata": {},
   "source": [
    "No podemos trabajar directamente con texto cuando usamos algoritmos de aprendizaje automático. En su lugar, necesitamos convertir el texto a números.\n",
    "\n",
    "Para esto vamos a usar 3 modelos de vectoriacion \n",
    "\n",
    "<ul>\n",
    "    <li> CountVectorizer </li>\n",
    "    <li> TfidfVectorizer </li>\n",
    "    <li> HashingVectorizer </li>\n",
    "</ul>\n",
    "\n"
   ]
  },
  {
   "cell_type": "markdown",
   "metadata": {},
   "source": [
    "\n",
    "\n",
    "\n",
    "\n",
    "***CountVectorizer***\n"
   ]
  },
  {
   "cell_type": "markdown",
   "metadata": {},
   "source": [
    "Count Vectorizer convierte una colección de documentos de texto en una matriz de recuentos de tokens Esta implementación produce una representación escasa de los recuentos usando scipy.sparse.csr_matrix.\n",
    "\n",
    "Si no proporciona un diccionario a-priori y no utiliza un analizador que haga algún tipo de selección de características, entonces el número de características será igual al tamaño de vocabulario encontrado al analizar los datos, es decir no hay palabras repetidas.\n",
    "\n",
    "Como argumento se puede pasar una lista de stopwords a tener en cuenta, nosotros no lo utilizamos por que ya eliminamos los stopwords previamente"
   ]
  },
  {
   "cell_type": "code",
   "execution_count": 28,
   "metadata": {},
   "outputs": [
    {
     "name": "stdout",
     "output_type": "stream",
     "text": [
      "(239, 13908)\n",
      "[[0 0 0 ... 0 0 0]\n",
      " [1 0 0 ... 0 0 0]\n",
      " [0 0 0 ... 0 0 0]\n",
      " ...\n",
      " [0 0 0 ... 0 0 0]\n",
      " [0 0 0 ... 0 0 0]\n",
      " [0 0 0 ... 0 0 0]]\n"
     ]
    }
   ],
   "source": [
    "vectorizer = CountVectorizer()\n",
    "vector_fit = vectorizer.fit_transform(data['texto'])\n",
    "print(vector_fit.shape)\n",
    "print(vector_fit.toarray())\n",
    "#print(vectorizer.vocabulary_) #Para ver todas las palabras y sus frecuencias, esta comentado para no dejar improlija la notebook"
   ]
  },
  {
   "cell_type": "markdown",
   "metadata": {},
   "source": [
    "***TfidfVectorizer***"
   ]
  },
  {
   "cell_type": "markdown",
   "metadata": {},
   "source": [
    "En un corpus de texto extenso, algunas palabras estarán muy presentes (por ejemplo, \"el\", \"a\", \"la\"), por lo que contienen muy poca información significativa sobre el contenido real del documento. Si tuviéramos que alimentar los datos de recuento directo directamente a un clasificador, esos términos muy frecuentes ensombrecerían las frecuencias de términos más raros pero más interesantes.\n",
    "\n",
    "Para volver a ponderar las características de conteo en valores de punto flotante adecuados para su uso por un clasificador, es muy común usar la transformación tf-idf.\n",
    "\n",
    "Tf significa término-frecuencia mientras que tf-idf significa término-frecuencia multiplicado por la frecuencia inversa del documento. Este es un esquema de ponderación de términos comunes en la recuperación de información, que también ha encontrado un buen uso en la clasificación de documentos.\n",
    "\n",
    "El objetivo de utilizar tf-idf en lugar de las frecuencias brutas de ocurrencia de un token en un documento dado es reducir el impacto de los tokens que ocurren con mucha frecuencia en un corpus dado y que, por lo tanto, son empíricamente menos informativos que las características que ocurren en un determinado corpus. pequeña fracción del corpus de formación."
   ]
  },
  {
   "cell_type": "code",
   "execution_count": 29,
   "metadata": {},
   "outputs": [
    {
     "name": "stdout",
     "output_type": "stream",
     "text": [
      "(239, 13908)\n",
      "[[0.         0.         0.         ... 0.         0.         0.        ]\n",
      " [0.00909709 0.         0.         ... 0.         0.         0.        ]\n",
      " [0.         0.         0.         ... 0.         0.         0.        ]\n",
      " ...\n",
      " [0.         0.         0.         ... 0.         0.         0.        ]\n",
      " [0.         0.         0.         ... 0.         0.         0.        ]\n",
      " [0.         0.         0.         ... 0.         0.         0.        ]]\n"
     ]
    }
   ],
   "source": [
    "transformer = TfidfVectorizer()\n",
    "tfidf = transformer.fit_transform(data['texto'])\n",
    "print(tfidf.shape)\n",
    "print(tfidf.toarray())"
   ]
  },
  {
   "cell_type": "markdown",
   "metadata": {},
   "source": [
    "***HashingVectorizer***"
   ]
  },
  {
   "cell_type": "markdown",
   "metadata": {},
   "source": [
    "Convierte una colección de documentos de texto en una matriz scipy.sparse que contiene recuentos de ocurrencia de tokens (o información de ocurrencia binaria), posiblemente normalizada como frecuencias de tokens si norm = 'l1' o proyectada en la esfera de la unidad euclidiana si norm = 'l2'.\n",
    "\n",
    "Esta implementación de vectorizador de texto usa el truco de hash para encontrar el nombre de la cadena del token para presentar el mapeo de índice entero.\n",
    "\n",
    "Lo bueno es que ocupa poco espacio en memoria."
   ]
  },
  {
   "cell_type": "code",
   "execution_count": 30,
   "metadata": {},
   "outputs": [
    {
     "data": {
      "text/plain": [
       "<239x1048576 sparse matrix of type '<class 'numpy.float64'>'\n",
       "\twith 196799 stored elements in Compressed Sparse Row format>"
      ]
     },
     "execution_count": 30,
     "metadata": {},
     "output_type": "execute_result"
    }
   ],
   "source": [
    "hv = HashingVectorizer()\n",
    "hv.transform(data[\"texto\"])"
   ]
  },
  {
   "cell_type": "markdown",
   "metadata": {},
   "source": [
    "_Para los puntos siguientes utilizaremos TfidfVectorizer por que creemos que es mejor que Count Vectorizer porque no solo se centra en la frecuencia de las palabras presentes en el corpus, sino que también proporciona la importancia de las palabras y en nuestro caso puede ser un diferencial grande._"
   ]
  },
  {
   "cell_type": "markdown",
   "metadata": {},
   "source": [
    "### Clasificar los documentos por fuero"
   ]
  },
  {
   "cell_type": "markdown",
   "metadata": {},
   "source": [
    "_Una vez elegido nuestro modelo de vectorizacion, procedemos a dividir nuestro dataset en un conjunto de entrenamiento (70%) y en un conjunto de test (30%) sobre la que evaluaremos nuestro modelo entrenado.\n",
    "Se pueden elegir diferentes proporciones de separacion del conjunto de train y test. En un comienzo utilizamos (80/20), pero como vimos que los modelos aprendian muy bien, preferimos dejar mas ejemplos de test como una medida de prevencion al overfitting._\n",
    "\n",
    "Usaramos 3 modelo de clasificacion\n",
    "\n",
    "<ul>\n",
    "    <li> Logistic Regresion (LogisticRegression) </li>\n",
    "    <li> Naive Bayes (MultinomialNB) </li>\n",
    "    <li> SVM (SVC) </li>\n",
    "</ul>\n",
    "\n",
    "Ademas para medir el rendimientos de nuestros modelos usaremos las siguientes metricas.\n",
    "\n",
    "+ Matriz de confusión: La matriz compara los valores reales con los predichos por el modelo de aprendizaje. Esto nos ayuda a ver que tan bien está funcionando nuestro modelo.\n",
    "Los elementos diagonales representan el número de puntos para los cuales la etiqueta predicha es igual a la etiqueta verdadera, mientras que cualquier cosa fuera de la diagonal fue mal etiquetada por el clasificador. Por lo tanto, cuanto más altos sean los valores diagonales de la matriz de confusión, mejor, indicando muchas predicciones correctas.\n",
    "\n",
    "+ Accuracy: Mide la frecuencia con la que el clasificador hace la predicción correcta. Es la relación entre el número de predicciones correctas y el número total de predicciones.\n",
    "La desventaja de usar esta métrica es que no funciona bien cuando las clases están desbalanceadas.\n",
    "\n",
    "+ Precision: Esta métrica representa el número de verdaderos positivos que son realmente positivos en comparación con el número total de valores positivos predichos.\n",
    "\n",
    "+ Recall: La métrica de recall muestra la cantidad de verdaderos positivos que el modelo ha clasificado en función del número total de valores positivos.\n",
    "\n",
    "+ F1: Esta métrica es la combinación de las métricas de precision y recall y sirve de compromiso entre ellas. La mejor puntuación F1 es igual a 1 y la peor a 0.\n",
    "\n",
    "Para problemas con clases desbalanceadas es mucho mejor usar precision, recall y F1"
   ]
  },
  {
   "cell_type": "code",
   "execution_count": 31,
   "metadata": {},
   "outputs": [],
   "source": [
    "vectorizer = TfidfVectorizer()\n",
    "transform = vectorizer.fit(data['texto'])\n",
    "X,Y=transform.transform(data['texto']), data['fuero']\n",
    "X_train, X_test, y_train, y_test=train_test_split(X,Y, test_size=0.3, random_state=42)"
   ]
  },
  {
   "cell_type": "markdown",
   "metadata": {},
   "source": [
    "***Logistic Regresion (LogisticRegression)***"
   ]
  },
  {
   "cell_type": "markdown",
   "metadata": {},
   "source": [
    "La regresión logística es un método estadístico que trata de modelar la probabilidad de una variable cualitativa binaria (dos posibles valores) en función de una o más variables independientes. \n",
    "La principal aplicación de la regresión logística es la creación de modelos de clasificación binaria.\n",
    "\n",
    "Regresión logística multinomial es una extensión de la regresión logística que agrega soporte nativo para problemas de clasificación de clases múltiples.\n",
    "\n",
    "- **Regresión logística binomial:** Regresión logística estándar que predice una probabilidad binomial (es decir, para dos clases) para cada ejemplo de entrada.\n",
    "- **Regresión logística multinomial:** Versión modificada de la regresión logística que predice una probabilidad multinomial (es decir, más de dos clases) para cada ejemplo de entrada.\n",
    "\n",
    "En nuestro caso, utilizaremos la Regresion logistica multinomial"
   ]
  },
  {
   "cell_type": "code",
   "execution_count": 32,
   "metadata": {},
   "outputs": [
    {
     "name": "stdout",
     "output_type": "stream",
     "text": [
      "Metricas\n",
      "\n",
      "              precision    recall  f1-score   support\n",
      "\n",
      "     FAMILIA       0.95      1.00      0.97        36\n",
      "     LABORAL       1.00      1.00      1.00        10\n",
      "     MENORES       1.00      0.80      0.89        10\n",
      "       PENAL       1.00      1.00      1.00        16\n",
      "\n",
      "    accuracy                           0.97        72\n",
      "   macro avg       0.99      0.95      0.97        72\n",
      "weighted avg       0.97      0.97      0.97        72\n",
      "\n",
      "Accuracy: 0.97\n",
      "Precision: 0.99\n",
      "Recall: 0.95\n",
      "F1 score: 0.97\n"
     ]
    },
    {
     "data": {
      "image/png": "[encoded data removed]",
      "text/plain": [
       "<Figure size 432x288 with 2 Axes>"
      ]
     },
     "metadata": {
      "needs_background": "light"
     },
     "output_type": "display_data"
    }
   ],
   "source": [
    "metrics_models(LogisticRegression(), X_train, X_test, y_train, y_test)"
   ]
  },
  {
   "cell_type": "markdown",
   "metadata": {},
   "source": [
    "_Modelamos utilizando Regression logistica con los parametros por defecto y pudimos observar que los resultados observados para cada clase en el classification report fueron muy buenos, el modelo obtuvo excelentes metricas evaluandolas en el conjunto de test. \n",
    "En la matriz de confusion podemos observar que unicamente hay un error en 2 documentos ne los cuales se predicen como menores, y en realidad pertenecen a familia._"
   ]
  },
  {
   "cell_type": "markdown",
   "metadata": {},
   "source": [
    "**Importante**: Cabe aclarar que tanto en este modelo como en los siguientes, no se pudo cumplir con el punto de la Curva ROC debido a que para clasificacion multiclase no se suele utilizar y no hay muchas librerias que funcionen con ese objetivo. Encontramos una (https://www.scikit-yb.org/en/latest/api/classifier/rocauc.html) y tratamos de seguir con la documentacion sugerida, pero los resultados que observamos no tenian sentido, asi que decidimos dejar este punto sin responder."
   ]
  },
  {
   "cell_type": "markdown",
   "metadata": {},
   "source": [
    "***Naive Bayes (MultinomialNB)***"
   ]
  },
  {
   "cell_type": "markdown",
   "metadata": {},
   "source": [
    "Naive Bayes Classifier es un algoritmo de aprendizaje automático supervisado basado en el teorema de Bayes. Es un algoritmo simple pero muy poderoso que funciona bien con grandes\n",
    "conjuntos de datos y matrices dispersas, como datos de texto preprocesados que crean miles de vectores dependiendo de la cantidad de palabras en un diccionario. Funciona muy bien con proyectos\n",
    "de datos de texto como el análisis de datos de opinión, funciona bien con proyectos de categorización de documentos y también es excelente para predecir datos categóricos en proyectos como la\n",
    "clasificación de correo no deseado.\n",
    "\n",
    "En nuestro caso usaremos MultinomialBN, que es adecuado para la clasificación con características discretas (por ejemplo, recuento de palabras para la clasificación de texto)."
   ]
  },
  {
   "cell_type": "code",
   "execution_count": 33,
   "metadata": {},
   "outputs": [
    {
     "name": "stdout",
     "output_type": "stream",
     "text": [
      "Metricas\n",
      "\n",
      "              precision    recall  f1-score   support\n",
      "\n",
      "     FAMILIA       0.52      1.00      0.69        36\n",
      "     LABORAL       0.00      0.00      0.00        10\n",
      "     MENORES       0.00      0.00      0.00        10\n",
      "       PENAL       1.00      0.19      0.32        16\n",
      "\n",
      "    accuracy                           0.54        72\n",
      "   macro avg       0.38      0.30      0.25        72\n",
      "weighted avg       0.48      0.54      0.41        72\n",
      "\n",
      "Accuracy: 0.54\n",
      "Precision: 0.38\n",
      "Recall: 0.3\n",
      "F1 score: 0.25\n"
     ]
    },
    {
     "name": "stderr",
     "output_type": "stream",
     "text": [
      "C:\\Users\\Usuario\\Anaconda3\\envs\\mentoria_env\\lib\\site-packages\\sklearn\\metrics\\_classification.py:1248: UndefinedMetricWarning: Precision is ill-defined and being set to 0.0 in labels with no predicted samples. Use `zero_division` parameter to control this behavior.\n",
      "  _warn_prf(average, modifier, msg_start, len(result))\n"
     ]
    },
    {
     "data": {
      "image/png": "[encoded data removed]",
      "text/plain": [
       "<Figure size 432x288 with 2 Axes>"
      ]
     },
     "metadata": {
      "needs_background": "light"
     },
     "output_type": "display_data"
    }
   ],
   "source": [
    "metrics_models(MultinomialNB(), X_train, X_test, y_train, y_test)"
   ]
  },
  {
   "cell_type": "markdown",
   "metadata": {},
   "source": [
    "_AL entrenar el modelo con NaiveBayes Multinomial con los parametros por defecto, se puede observar que el modelo predice casi todo el conjunto de datos como Familia, eso podria darse por el desbalance en la cantidad de documentos de esa clase. Mas adelante veremos como mejora el modelo utilizando la optimizacion de hiperparametros_"
   ]
  },
  {
   "cell_type": "markdown",
   "metadata": {},
   "source": [
    "***SVM (SVC)***"
   ]
  },
  {
   "cell_type": "markdown",
   "metadata": {},
   "source": [
    "Support Vector Machines (SVM) es un algoritmo de clasificación y regresión. \n",
    "Aunque inicialmente se desarrolló como un método de clasificación binaria, su aplicación se ha extendido a problemas de clasificación múltiple y regresión. SVMs ha resultado ser uno de los \n",
    "mejores clasificadores para un amplio abanico de situaciones, por lo que se considera uno de los referentes dentro del ámbito de aprendizaje estadístico y machine learning."
   ]
  },
  {
   "cell_type": "code",
   "execution_count": 34,
   "metadata": {},
   "outputs": [
    {
     "name": "stdout",
     "output_type": "stream",
     "text": [
      "Metricas\n",
      "\n",
      "              precision    recall  f1-score   support\n",
      "\n",
      "     FAMILIA       0.95      1.00      0.97        36\n",
      "     LABORAL       1.00      1.00      1.00        10\n",
      "     MENORES       1.00      0.80      0.89        10\n",
      "       PENAL       1.00      1.00      1.00        16\n",
      "\n",
      "    accuracy                           0.97        72\n",
      "   macro avg       0.99      0.95      0.97        72\n",
      "weighted avg       0.97      0.97      0.97        72\n",
      "\n",
      "Accuracy: 0.97\n",
      "Precision: 0.99\n",
      "Recall: 0.95\n",
      "F1 score: 0.97\n"
     ]
    },
    {
     "data": {
      "image/png": "[encoded data removed]",
      "text/plain": [
       "<Figure size 432x288 with 2 Axes>"
      ]
     },
     "metadata": {
      "needs_background": "light"
     },
     "output_type": "display_data"
    }
   ],
   "source": [
    "metrics_models(SVC(), X_train, X_test, y_train, y_test)"
   ]
  },
  {
   "cell_type": "markdown",
   "metadata": {},
   "source": [
    "_El modelo de SVM con los parametros por defecto performo muy bien y nos dio metricas mas que aceptables_\n",
    "\n",
    "_Como primera conclusion al ejecutar los modelos con los parametros por defecto pudimos observar que tanto SVM y Regresion Logistica tuvieron resultados mas que aceptables, brindando metricas practicamente identicas. Por otro lado el modelo de Naive Bayes, nos dio malos resultados, por lo cual, deberia ser el modelo mas optimizable en los puntos siguiente_"
   ]
  },
  {
   "cell_type": "markdown",
   "metadata": {},
   "source": [
    "***Optimizacion de hiperparametros con GridSearch***"
   ]
  },
  {
   "cell_type": "markdown",
   "metadata": {},
   "source": [
    "Para la optimizacion de hiperparametros con GridSearch utilizamos como metrica de scoring el F1, debido a que cuando las clases estan desbalanceadas, no se recomienda como buena practica utilizar el accuracy"
   ]
  },
  {
   "cell_type": "markdown",
   "metadata": {},
   "source": [
    "***Regresion Logistica***"
   ]
  },
  {
   "cell_type": "markdown",
   "metadata": {},
   "source": [
    "- penalty: Se utiliza para especificar la norma utilizada en la penalización. (Link con data interesante sobre los penalties l1 y l2 https://towardsdatascience.com/l1-and-l2-regularization-methods-ce25e7fc831c)\n",
    "- C: Inversa de la fuerza de regularización; debe ser un flotador positivo. Al igual que en las máquinas de vectores de soporte, los valores más pequeños especifican una regularización más fuerte.\n",
    "- mac_iter: Número máximo de iteraciones que se toman para que los solucionadores converjan.\n",
    "- class_weight: Pesos asociados a clases en el formulario . Si no se da, se supone que todas las clases tienen un peso uno. El modo \"balanceado\" utiliza los valores de y para ajustar automáticamente los pesos de forma inversamente proporcional a las frecuencias de clase en los datos de entrada como .n_samples / (n_classes * np.bincount(y))\n",
    "- solver: Algoritmo a utilizar en el problema de optimización.Para conjuntos de datos pequeños, 'liblinear' es una buena opción, mientras que 'sag' y 'saga' son más rápidos para los grandes.Para problemas multiclase, solo 'newton-cg', 'sag', 'saga' y 'lbfgs' manejan la pérdida multinomial; 'liblinear' se limita a esquemas uno versus resto."
   ]
  },
  {
   "cell_type": "code",
   "execution_count": 43,
   "metadata": {
    "tags": []
   },
   "outputs": [],
   "source": [
    "#best_LR = hyper('LR', X_train, X_test, y_train, y_test)"
   ]
  },
  {
   "cell_type": "code",
   "execution_count": 45,
   "metadata": {},
   "outputs": [
    {
     "name": "stdout",
     "output_type": "stream",
     "text": [
      "Mejores hiperparametros:  LogisticRegression(C=0.01, max_iter=25, penalty='none')\n"
     ]
    }
   ],
   "source": [
    "print('Mejores hiperparametros: ', best_LR.best_estimator_) #Para que ande esta celda si se vuelve a ejecutar, hay que ejecutar la celda de arriba. Quedo comentada por que saltan muchos warnings por los hiperparametros"
   ]
  },
  {
   "cell_type": "code",
   "execution_count": 37,
   "metadata": {},
   "outputs": [
    {
     "name": "stdout",
     "output_type": "stream",
     "text": [
      "Metricas\n",
      "\n",
      "              precision    recall  f1-score   support\n",
      "\n",
      "     FAMILIA       1.00      0.97      0.99        36\n",
      "     LABORAL       1.00      1.00      1.00        10\n",
      "     MENORES       0.91      1.00      0.95        10\n",
      "       PENAL       1.00      1.00      1.00        16\n",
      "\n",
      "    accuracy                           0.99        72\n",
      "   macro avg       0.98      0.99      0.98        72\n",
      "weighted avg       0.99      0.99      0.99        72\n",
      "\n"
     ]
    },
    {
     "name": "stderr",
     "output_type": "stream",
     "text": [
      "C:\\Users\\Usuario\\Anaconda3\\envs\\mentoria_env\\lib\\site-packages\\sklearn\\linear_model\\_logistic.py:1322: UserWarning: Setting penalty='none' will ignore the C and l1_ratio parameters\n",
      "  warnings.warn(\n",
      "C:\\Users\\Usuario\\Anaconda3\\envs\\mentoria_env\\lib\\site-packages\\sklearn\\linear_model\\_sag.py:328: ConvergenceWarning: The max_iter was reached which means the coef_ did not converge\n",
      "  warnings.warn(\"The max_iter was reached which means \"\n"
     ]
    },
    {
     "name": "stdout",
     "output_type": "stream",
     "text": [
      "Accuracy: 0.99\n",
      "Precision: 0.98\n",
      "Recall: 0.99\n",
      "F1 score: 0.98\n"
     ]
    },
    {
     "data": {
      "image/png": "[encoded data removed]",
      "text/plain": [
       "<Figure size 432x288 with 2 Axes>"
      ]
     },
     "metadata": {
      "needs_background": "light"
     },
     "output_type": "display_data"
    }
   ],
   "source": [
    "metrics_models(LogisticRegression(C=0.01, class_weight='balanced', max_iter=25, penalty='none',\n",
    "                   solver='sag'), X_train, X_test, y_train, y_test)"
   ]
  },
  {
   "cell_type": "markdown",
   "metadata": {},
   "source": [
    "En la notebook saltan diferentes alertas y excepciones de combinacion de hiperparametros que no son compatibles entre si. Con el fin de dejar prolija la notebook, decidimos directamente visualizar las metricas con el que vimos que es el mejor modelo de Regresion Logistica que nos devuelve el Grid Search\n",
    "\n",
    "_En cuanto a los resultados, la optimizacion de hiperparametros mejoro las metricas del modelo y predice perfecto al conjunto de test, de acuerdo a lo que podemos ver en los resultados. Hay que analizar si esto es por overfittin o no. Por lo cual al final de la notebook probaremos predecir con los documentos que estaban fuera de la muestra. Con respecto a los hiperparametros nos parecio curioso que el metodo de regularizacion con el que mejor performo (penalty) es None, recordando que la regularizacion en alguna medida ayuda a evitar el overfitting)_"
   ]
  },
  {
   "cell_type": "markdown",
   "metadata": {},
   "source": [
    "***Naive Bayes***"
   ]
  },
  {
   "cell_type": "markdown",
   "metadata": {},
   "source": [
    "Para Naive Bayes optimizaremos los siguientes hiperparametros:\n",
    "- alpha: Parámetro de suavizado aditivo (Laplace / Lidstone)    \n",
    "- fit_prior: Es aprender las probabilidades previas de la clase o no. Si es falso, se usará un uniforme previo."
   ]
  },
  {
   "cell_type": "code",
   "execution_count": 38,
   "metadata": {
    "tags": []
   },
   "outputs": [
    {
     "name": "stdout",
     "output_type": "stream",
     "text": [
      "Mejores hiperparametros:  MultinomialNB(alpha=0.05962959815069724, fit_prior=False)\n",
      "Metricas\n",
      "\n",
      "              precision    recall  f1-score   support\n",
      "\n",
      "     FAMILIA       0.95      1.00      0.97        36\n",
      "     LABORAL       1.00      1.00      1.00        10\n",
      "     MENORES       1.00      0.80      0.89        10\n",
      "       PENAL       1.00      1.00      1.00        16\n",
      "\n",
      "    accuracy                           0.97        72\n",
      "   macro avg       0.99      0.95      0.97        72\n",
      "weighted avg       0.97      0.97      0.97        72\n",
      "\n",
      "Accuracy: 0.97\n",
      "Precision: 0.99\n",
      "Recall: 0.95\n",
      "F1 score: 0.97\n"
     ]
    },
    {
     "data": {
      "image/png": "[encoded data removed]",
      "text/plain": [
       "<Figure size 432x288 with 2 Axes>"
      ]
     },
     "metadata": {
      "needs_background": "light"
     },
     "output_type": "display_data"
    }
   ],
   "source": [
    "best_NB = hyper('NB', X_train, X_test, y_train, y_test)"
   ]
  },
  {
   "cell_type": "markdown",
   "metadata": {},
   "source": [
    "_En el caso de Naive Bayer optimizado podemos ver que paso de predecir muy mal con los parametros por defecto a predecir perfecto. Tambien cabe aclarar que los 2 hiperparametros que optimizamos varian bastante con el valor por defecto, el alpha por defecto es de 1 y en el mejor modelo es de 0.03 y en el caso del fit_prior que por defecto es verdadero, aca se considero que es mas optimo que sea falso_"
   ]
  },
  {
   "cell_type": "markdown",
   "metadata": {},
   "source": [
    "***SVM***"
   ]
  },
  {
   "cell_type": "markdown",
   "metadata": {},
   "source": [
    "Para este modelo probamos optimizar los siguientes hiperparametros:\n",
    "- kernel:Especifica el tipo de kernel que se utilizará en el algoritmo. (https://www.geeksforgeeks.org/major-kernel-functions-in-support-vector-machine-svm/ para mas info)\n",
    "- gamma: Coeficiente de kernel para 'rbf', 'poli' y 'sigmoide'.\n",
    "- C :Parámetro de regularización. La fuerza de la regularización es inversamente proporcional a C. Debe ser estrictamente positiva. La penalización es una penalización de 12 al cuadrado.\n",
    "- degree:Grado de la función del núcleo polinomial ('poli'). Ignorado por todos los demás núcleos.\n",
    "- decision_function_shape: Ya sea para devolver una función de decisión one-vs-rest ('ovr') de shape (n_samples, n_classes) como todos los demás clasificadores, o la función de decisión original one-vs-one ('ovo') de libsvm que tiene shape"
   ]
  },
  {
   "cell_type": "code",
   "execution_count": 39,
   "metadata": {},
   "outputs": [
    {
     "name": "stdout",
     "output_type": "stream",
     "text": [
      "Mejores hiperparametros:  SVC(C=10, decision_function_shape='ovo', degree=1, kernel='linear')\n",
      "Metricas\n",
      "\n",
      "              precision    recall  f1-score   support\n",
      "\n",
      "     FAMILIA       1.00      0.97      0.99        36\n",
      "     LABORAL       1.00      1.00      1.00        10\n",
      "     MENORES       0.91      1.00      0.95        10\n",
      "       PENAL       1.00      1.00      1.00        16\n",
      "\n",
      "    accuracy                           0.99        72\n",
      "   macro avg       0.98      0.99      0.98        72\n",
      "weighted avg       0.99      0.99      0.99        72\n",
      "\n",
      "Accuracy: 0.99\n",
      "Precision: 0.98\n",
      "Recall: 0.99\n",
      "F1 score: 0.98\n"
     ]
    },
    {
     "data": {
      "image/png": "[encoded data removed]",
      "text/plain": [
       "<Figure size 432x288 with 2 Axes>"
      ]
     },
     "metadata": {
      "needs_background": "light"
     },
     "output_type": "display_data"
    }
   ],
   "source": [
    "best_SVM = hyper('SVM', X_train, X_test, y_train, y_test)"
   ]
  },
  {
   "cell_type": "markdown",
   "metadata": {},
   "source": [
    "_Vemos que en el caso de SVM mejora infimamente las metricas del modelo que obteniamos con los hiperparametros por defecto, a pesar de modificarse bastante los valores de estos hiperparametros_"
   ]
  },
  {
   "cell_type": "markdown",
   "metadata": {},
   "source": [
    "***Evaluacion con datos fuera de la muestra***"
   ]
  },
  {
   "cell_type": "markdown",
   "metadata": {},
   "source": [
    "Ahora vamos a evaluar el rendimiento de los mejores modelos, en nuestro caso Regresion Logistica y Naive Bayes opmitizados, para corroborar si efectivamente aprendieron bien."
   ]
  },
  {
   "cell_type": "code",
   "execution_count": 40,
   "metadata": {},
   "outputs": [
    {
     "data": {
      "text/plain": [
       "['C:\\\\Users\\\\Usuario\\\\Mentoria_Busqueda_y_Recomendacion_Textos_Legales\\\\Documentos\\\\PENAL\\\\045-Coudray, Matilde Rosa (Echeto, Rosa Edelma).pdf.txt',\n",
       " 'C:\\\\Users\\\\Usuario\\\\Mentoria_Busqueda_y_Recomendacion_Textos_Legales\\\\Documentos\\\\FAMILIA\\\\C., A. -DENUNCIA POR VIOLENCIA DE GÉNERO - RECURSO DE APELACIÓN.doc.txt',\n",
       " 'C:\\\\Users\\\\Usuario\\\\Mentoria_Busqueda_y_Recomendacion_Textos_Legales\\\\Documentos\\\\LABORAL\\\\90 FUNES-COYSPU.pdf.txt',\n",
       " 'C:\\\\Users\\\\Usuario\\\\Mentoria_Busqueda_y_Recomendacion_Textos_Legales\\\\Documentos\\\\FAMILIA\\\\B.D.M.- SOLICITA MEDIDAS CAUTELARES- COMUNI. INTERJURISDICCIONAL.doc.txt']"
      ]
     },
     "execution_count": 40,
     "metadata": {},
     "output_type": "execute_result"
    }
   ],
   "source": [
    "test_files"
   ]
  },
  {
   "cell_type": "code",
   "execution_count": 41,
   "metadata": {},
   "outputs": [
    {
     "name": "stdout",
     "output_type": "stream",
     "text": [
      "              precision    recall  f1-score   support\n",
      "\n",
      "     FAMILIA       1.00      1.00      1.00         2\n",
      "     LABORAL       1.00      1.00      1.00         1\n",
      "       PENAL       1.00      1.00      1.00         1\n",
      "\n",
      "    accuracy                           1.00         4\n",
      "   macro avg       1.00      1.00      1.00         4\n",
      "weighted avg       1.00      1.00      1.00         4\n",
      "\n",
      "Las prediccion sobre los documentos fueron:  ['PENAL' 'FAMILIA' 'LABORAL' 'FAMILIA']\n",
      "Los valores reales sobre los documentos es:  ['PENAL', 'FAMILIA', 'LABORAL', 'FAMILIA']\n"
     ]
    },
    {
     "data": {
      "image/png": "[encoded data removed]",
      "text/plain": [
       "<Figure size 432x288 with 2 Axes>"
      ]
     },
     "metadata": {
      "needs_background": "light"
     },
     "output_type": "display_data"
    }
   ],
   "source": [
    "prediccion(best_NB, transform, test_files)\n"
   ]
  },
  {
   "cell_type": "markdown",
   "metadata": {},
   "source": [
    "Vemos que con Naive Bayes se predicen bien los modelos, lo cual nos acerca un poco mas a la hipotesis de que el modelo realmente aprendio bien y no hizo overfitting "
   ]
  },
  {
   "cell_type": "code",
   "execution_count": 42,
   "metadata": {},
   "outputs": [
    {
     "name": "stdout",
     "output_type": "stream",
     "text": [
      "              precision    recall  f1-score   support\n",
      "\n",
      "     FAMILIA       1.00      1.00      1.00         2\n",
      "     LABORAL       1.00      1.00      1.00         1\n",
      "       PENAL       1.00      1.00      1.00         1\n",
      "\n",
      "    accuracy                           1.00         4\n",
      "   macro avg       1.00      1.00      1.00         4\n",
      "weighted avg       1.00      1.00      1.00         4\n",
      "\n",
      "Las prediccion sobre los documentos fueron:  ['PENAL' 'FAMILIA' 'LABORAL' 'FAMILIA']\n",
      "Los valores reales sobre los documentos es:  ['PENAL', 'FAMILIA', 'LABORAL', 'FAMILIA']\n"
     ]
    },
    {
     "data": {
      "image/png": "[encoded data removed]",
      "text/plain": [
       "<Figure size 432x288 with 2 Axes>"
      ]
     },
     "metadata": {
      "needs_background": "light"
     },
     "output_type": "display_data"
    }
   ],
   "source": [
    "prediccion(best_LR, transform, test_files)"
   ]
  },
  {
   "cell_type": "markdown",
   "metadata": {},
   "source": [
    "Con Regression Logistica tambien obtuvimos un buen resultado"
   ]
  },
  {
   "cell_type": "markdown",
   "metadata": {},
   "source": [
    "***Conclusiones***\n",
    "\n",
    "\n",
    "\n",
    "Si bien a lo largo de la notebook fuimos describiendo toda las conclusiones que fuimos sacando, podemos hacer un resumen de lo siguiente:\n",
    "- Probamos utilizar los 3 metodos de vectorizacion que nos brindaba sklearn y nos terminamos quedando con TfidfVectorizer por que ademas de tener en cuenta el recuento de palabras, les proporciona importancia\n",
    "- Separamos algunos documentos fuera de la muestra para hacer una evaluacion final de los mejores modelos y con al resto de los documentos los volvido a dividir en (70/30) para formar el conjunto de entrenamiento y test respectivamente\n",
    "- Probamos entrenar los 3 modelos solicitados (Regresion logistica, Naive Bayes y SVM) con los parametros por defecto y pudimos observar que tanto LR como SVM performaron ambos muy bien, en tanto que Naive Bayes perfomo mal.\n",
    "- Posteriormente optmizamos los modelos con diferentes hiperparametros correspondientes a cada uno, lo cual nos llevo a aprender para que sirven y que ajusten implican cada uno. Con esta optimizacion, pudimos ver que LR y NB performaron perfecto evaluando el conjunto de test, lo cual nos llevo a pensar que podria haber overfitting. SVM tambien mejoro ligeramente con respecto a los valores por defecto.\n",
    "- Por ultimo, evaluamos los archivos que habiamos separado en el punto 2 y tratamos de predecirlos con los mejores modelos y fueron predichos de forma correcta, lo cual nos deja a entender que los modelos efectivamente aprendieron bien "
   ]
  },
  {
   "cell_type": "code",
   "execution_count": null,
   "metadata": {},
   "outputs": [],
   "source": []
  }
 ],
 "metadata": {
  "kernelspec": {
   "display_name": "Python 3",
   "language": "python",
   "name": "python3"
  },
  "language_info": {
   "codemirror_mode": {
    "name": "ipython",
    "version": 3
   },
   "file_extension": ".py",
   "mimetype": "text/x-python",
   "name": "python",
   "nbconvert_exporter": "python",
   "pygments_lexer": "ipython3",
   "version": "3.8.10"
  }
 },
 "nbformat": 4,
 "nbformat_minor": 4
}
