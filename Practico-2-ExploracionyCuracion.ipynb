{
 "cells": [
  {
   "cell_type": "markdown",
   "id": "0e33385e-f543-479d-a847-399f09d6bbec",
   "metadata": {},
   "source": [
    "### Universidad Nacional de Córdoba - Facultad de Matemática, Astronomía, Física y Computación\n",
    "\n",
    "### Diplomatura en Ciencia de Datos, Aprendizaje Automático y sus Aplicaciones 2021\n",
    "Búsqueda y Recomendación para Textos Legales\n",
    "\n",
    "Mentor: Jorge E. Pérez Villella\n",
    "\n",
    "# Práctico Análisis y Visualización\n",
    "\n",
    "Integrantes:Carrion Nicolas y Delgado Gabriel\n",
    "\n",
    "### Objetivos:\n",
    "Normalizar el corpus generado en el práctico anterior, teniendo en cuenta los siguientes aspectos:\n",
    "\n",
    "* tokenización,\n",
    "* pasar a minúsculas,\n",
    "* separar puntuación,\n",
    "* stemming y lematización,\n",
    "* eliminar stopwords (o no),\n",
    "* eliminar las palabras con frecuencia menor a n.\n",
    "* Analizar las palabras más frecuentes de todo el corpus, por fuero y de 5 documentos. Compararlo con el resultado obtenido en el ejercicio anterior. Se observa algún cambio significativo?\n",
    "\n",
    "* Hacer una explicación con ejemplos tomando algunas palabras al azar entre lo que es stemming y lemmatizing para entender que nos da cada uno de estos procesos y cual es conveniente utilizar en cada caso.\n",
    "\n",
    "Opcional:\n",
    "\n",
    "* Investigar que es Segmentación y compararlo con Tokenización. Ejemplificar con un documento.\n",
    "* Investigar NER (Named Entity Recognition - Reconocimiento de Entitades Nombradas). Buscar las Entidadas Nombradas mas frecuentes en todo el corpus y por fuero.\n",
    "Fecha de Entrega: 4 de julio de 2021\n",
    "\n"
   ]
  },
  {
   "cell_type": "code",
   "execution_count": 47,
   "id": "8158868c-4eb2-4096-b8b4-a4c228716cdc",
   "metadata": {},
   "outputs": [],
   "source": [
    "import pandas as pd\n",
    "import seaborn as sns\n",
    "import os\n",
    "import nltk\n",
    "import matplotlib.pyplot as plt"
   ]
  },
  {
   "cell_type": "code",
   "execution_count": 48,
   "id": "0c337cb6-8cf6-4069-9c13-29c9afcf7914",
   "metadata": {},
   "outputs": [],
   "source": [
    "def tokens2dataframe(tokens):\n",
    "    freq = nltk.FreqDist(tokens)\n",
    "    data = pd.DataFrame(freq.items(), columns=['Token', 'Frecuencia']).sort_values(by=\"Frecuencia\", ascending=False)\n",
    "    return data\n",
    "def graph_frequency(dataframe):\n",
    "    plt.figure(figsize=(10,6))\n",
    "    sns.barplot(x=dataframe[:15].Token, y=dataframe[:15].Frecuencia, color='skyblue')\n",
    "    plt.xticks(rotation=90)\n",
    "    sns.despine()\n",
    "\n",
    "def normalize(s):\n",
    "    replacements = (\n",
    "        (\"á\", \"a\"),\n",
    "        (\"é\", \"e\"),\n",
    "        (\"í\", \"i\"),\n",
    "        (\"ó\", \"o\"),\n",
    "        (\"ú\", \"u\"),\n",
    "    )\n",
    "    for a, b in replacements:\n",
    "        s = s.replace(a, b)\n",
    "    return s"
   ]
  },
  {
   "cell_type": "code",
   "execution_count": 49,
   "id": "3bcf9162-96d3-4d23-883f-c7f9f2436813",
   "metadata": {},
   "outputs": [],
   "source": [
    "dirname= \"Corpus.txt\"\n",
    "\n",
    "f = open (dirname,'r', encoding=\"utf-8\")\n",
    "corpus=f.read()\n",
    "f.close\n",
    "corpus= corpus.lower()\n"
   ]
  },
  {
   "cell_type": "markdown",
   "id": "508efee2-079c-4de9-9880-dcf11b851d1b",
   "metadata": {},
   "source": [
    "Hay varios tokenizadores que NLTK brinda, de acuerdo a el objetivo especifico que tengamos (si queremos tokenizar puntos, oraciones, palabras, etc)\n",
    "Nosotros utilizamos RegexpTokenizer que divide una cadena en subcadenas usando una expresión regular. Utilizamos este metodo debido a que observamos mejores resultados que con otros metodos como el WordTokenize y este metodo elimina los signos de puntuacion"
   ]
  },
  {
   "cell_type": "code",
   "execution_count": 50,
   "id": "ee3443ab-7734-4375-87dd-a70b4dcb72d4",
   "metadata": {},
   "outputs": [],
   "source": [
    "#Se generan los tokens sin signos de puntuacion\n",
    "from nltk.tokenize import RegexpTokenizer\n",
    "from nltk.corpus import stopwords\n",
    "tokenizer = RegexpTokenizer(r'\\w+')\n",
    "tokens=tokenizer.tokenize(corpus)\n"
   ]
  },
  {
   "cell_type": "markdown",
   "id": "b2eb7db9-3a61-4330-ae5d-4c4fcab8670b",
   "metadata": {},
   "source": [
    "Se eliminan las palabran con logitud menor a 3 caracteres por que creemos que no aportan informacion. Si muchas de estas palabras se eliminan mas adelante con los stopwords, quedan muchas palabras de 2 caracteres como 'fs', que probablemente se trate de un error ortografico"
   ]
  },
  {
   "cell_type": "code",
   "execution_count": 51,
   "id": "74f2a5a5-24e2-4522-b1f6-8c253a474ca7",
   "metadata": {},
   "outputs": [],
   "source": [
    "cant_letters=2\n",
    "tokens=[token for token in tokens if len(token) > cant_letters]"
   ]
  },
  {
   "cell_type": "markdown",
   "id": "71a915c4-d85a-444a-905c-16d474e271b0",
   "metadata": {},
   "source": [
    "Se normalizan los tokens, reemplazando los que tienen acento, por el mismo token sin acento, esto es para unificar ciertas palabras con errores de ortografia o no"
   ]
  },
  {
   "cell_type": "code",
   "execution_count": 52,
   "id": "86bf6b26-68db-4dad-be82-02b53dee8b1c",
   "metadata": {
    "tags": []
   },
   "outputs": [
    {
     "data": {
      "text/plain": [
       "['auto',\n",
       " '122',\n",
       " '547',\n",
       " '552',\n",
       " 'cordoba',\n",
       " 'veinticuatro',\n",
       " 'septiembre',\n",
       " 'dos',\n",
       " 'mil',\n",
       " 'dieciocho',\n",
       " 'vistos',\n",
       " 'estos',\n",
       " 'autos',\n",
       " 'caratulados',\n",
       " 'control',\n",
       " 'legalidad',\n",
       " 'ley',\n",
       " '9944',\n",
       " 'art',\n",
       " 'expte']"
      ]
     },
     "execution_count": 52,
     "metadata": {},
     "output_type": "execute_result"
    }
   ],
   "source": [
    "tokens_normalize = [normalize(word) for word in tokens ]\n",
    "tokens_normalize[:20]"
   ]
  },
  {
   "cell_type": "code",
   "execution_count": 53,
   "id": "125e8d89-0213-40a8-bc5c-0f2756c1e555",
   "metadata": {},
   "outputs": [
    {
     "data": {
      "image/png": "[encoded data removed]",
      "text/plain": [
       "<Figure size 720x432 with 1 Axes>"
      ]
     },
     "metadata": {
      "needs_background": "light"
     },
     "output_type": "display_data"
    }
   ],
   "source": [
    "corpus_df = tokens2dataframe(tokens_normalize)\n",
    "graph_frequency(corpus_df)"
   ]
  },
  {
   "cell_type": "markdown",
   "id": "5d107395-68d4-4e5d-80d0-07da168e3270",
   "metadata": {},
   "source": [
    "Stopword el nombre que reciben las palabras sin significado como artículos, pronombres, preposiciones, etc (como \"el\", \"a\", \"una\", \"en\") que un motor de búsqueda ha sido programado para ignorar, tanto al indexar entradas para buscarlas como al recuperarlas. como resultado de una consulta de búsqueda. \n",
    "\n",
    "Los stopwords aparecen por lo general en una lista de palabras, que se toma como referencia para eliminar el corpus. Nosotros utilizamos la lista de palabras que proporciona NLTK y ademas bajamos un txt de https://raw.githubusercontent.com/Alir3z4/stop-words/master/spanish.txt que contiene mas stopwords"
   ]
  },
  {
   "cell_type": "code",
   "execution_count": 54,
   "id": "a5f85f83-e854-4e60-8971-dd234a7095d4",
   "metadata": {},
   "outputs": [],
   "source": [
    "file_stopwords='stopwords.txt'\n",
    "f = open (file_stopwords,'r', encoding=\"utf-8\")\n",
    "stopwords_list=f.read()\n",
    "#stopwords_list.replace('\\n', ' ')\n",
    "stopwords_tokens=tokenizer.tokenize(stopwords_list)\n"
   ]
  },
  {
   "cell_type": "code",
   "execution_count": 55,
   "id": "33d35197-dd76-4ef9-b292-24b23734eb3a",
   "metadata": {},
   "outputs": [
    {
     "data": {
      "text/plain": [
       "['auto',\n",
       " '122',\n",
       " '547',\n",
       " '552',\n",
       " 'cordoba',\n",
       " 'veinticuatro',\n",
       " 'septiembre',\n",
       " 'dos',\n",
       " 'mil',\n",
       " 'dieciocho',\n",
       " 'vistos',\n",
       " 'autos',\n",
       " 'caratulados',\n",
       " 'control',\n",
       " 'legalidad',\n",
       " 'ley',\n",
       " '9944',\n",
       " 'art',\n",
       " 'expte',\n",
       " 'venidos']"
      ]
     },
     "execution_count": 55,
     "metadata": {},
     "output_type": "execute_result"
    }
   ],
   "source": [
    "\n",
    "stopwords_tokens=stopwords.words('spanish')\n",
    "stopwords_tokens.extend(stopwords_tokens)\n",
    "\n",
    "words = [token for token in tokens_normalize if token not in stopwords_tokens]\n",
    "words[:20]"
   ]
  },
  {
   "cell_type": "code",
   "execution_count": 56,
   "id": "dd982320-bc6b-41e1-90c0-9fc45a8c4d59",
   "metadata": {},
   "outputs": [
    {
     "data": {
      "image/png": "[encoded data removed]",
      "text/plain": [
       "<Figure size 720x432 with 1 Axes>"
      ]
     },
     "metadata": {
      "needs_background": "light"
     },
     "output_type": "display_data"
    }
   ],
   "source": [
    "corpus_df_sw = tokens2dataframe(words)\n",
    "graph_frequency(corpus_df_sw)"
   ]
  },
  {
   "cell_type": "markdown",
   "id": "741a8bfe-a9f9-40fe-90a5-635160863292",
   "metadata": {},
   "source": [
    "Se puede observar que la frecuencia de palabras cambia notablemente y ya no hay articulos ni signos de puntuacion que podian estar haciendo ruido. Tambien observamos que deja de cumplirse la Ley Zipf, exceptuando quizas las primeras 2 frecuencias de palabras"
   ]
  },
  {
   "cell_type": "code",
   "execution_count": 57,
   "id": "3000f4d6-d225-4606-8d11-6dbe24d5d588",
   "metadata": {},
   "outputs": [
    {
     "name": "stdout",
     "output_type": "stream",
     "text": [
      "Lista de tokens del corpus original : \n"
     ]
    },
    {
     "data": {
      "text/html": [
       "<div>\n",
       "<style scoped>\n",
       "    .dataframe tbody tr th:only-of-type {\n",
       "        vertical-align: middle;\n",
       "    }\n",
       "\n",
       "    .dataframe tbody tr th {\n",
       "        vertical-align: top;\n",
       "    }\n",
       "\n",
       "    .dataframe thead th {\n",
       "        text-align: right;\n",
       "    }\n",
       "</style>\n",
       "<table border=\"1\" class=\"dataframe\">\n",
       "  <thead>\n",
       "    <tr style=\"text-align: right;\">\n",
       "      <th></th>\n",
       "      <th>Token</th>\n",
       "      <th>Frecuencia</th>\n",
       "    </tr>\n",
       "  </thead>\n",
       "  <tbody>\n",
       "    <tr>\n",
       "      <th>39</th>\n",
       "      <td>que</td>\n",
       "      <td>42104</td>\n",
       "    </tr>\n",
       "    <tr>\n",
       "      <th>21</th>\n",
       "      <td>del</td>\n",
       "      <td>20037</td>\n",
       "    </tr>\n",
       "    <tr>\n",
       "      <th>98</th>\n",
       "      <td>por</td>\n",
       "      <td>18008</td>\n",
       "    </tr>\n",
       "    <tr>\n",
       "      <th>38</th>\n",
       "      <td>los</td>\n",
       "      <td>16075</td>\n",
       "    </tr>\n",
       "    <tr>\n",
       "      <th>71</th>\n",
       "      <td>las</td>\n",
       "      <td>10198</td>\n",
       "    </tr>\n",
       "    <tr>\n",
       "      <th>86</th>\n",
       "      <td>con</td>\n",
       "      <td>9433</td>\n",
       "    </tr>\n",
       "    <tr>\n",
       "      <th>422</th>\n",
       "      <td>una</td>\n",
       "      <td>5781</td>\n",
       "    </tr>\n",
       "    <tr>\n",
       "      <th>189</th>\n",
       "      <td>para</td>\n",
       "      <td>5747</td>\n",
       "    </tr>\n",
       "    <tr>\n",
       "      <th>100</th>\n",
       "      <td>como</td>\n",
       "      <td>4522</td>\n",
       "    </tr>\n",
       "    <tr>\n",
       "      <th>18</th>\n",
       "      <td>art</td>\n",
       "      <td>4285</td>\n",
       "    </tr>\n",
       "    <tr>\n",
       "      <th>16</th>\n",
       "      <td>ley</td>\n",
       "      <td>3002</td>\n",
       "    </tr>\n",
       "    <tr>\n",
       "      <th>174</th>\n",
       "      <td>esta</td>\n",
       "      <td>2666</td>\n",
       "    </tr>\n",
       "    <tr>\n",
       "      <th>135</th>\n",
       "      <td>sus</td>\n",
       "      <td>2626</td>\n",
       "    </tr>\n",
       "    <tr>\n",
       "      <th>124</th>\n",
       "      <td>ello</td>\n",
       "      <td>2614</td>\n",
       "    </tr>\n",
       "    <tr>\n",
       "      <th>57</th>\n",
       "      <td>fecha</td>\n",
       "      <td>2526</td>\n",
       "    </tr>\n",
       "    <tr>\n",
       "      <th>51</th>\n",
       "      <td>recurso</td>\n",
       "      <td>2444</td>\n",
       "    </tr>\n",
       "    <tr>\n",
       "      <th>163</th>\n",
       "      <td>tribunal</td>\n",
       "      <td>2407</td>\n",
       "    </tr>\n",
       "    <tr>\n",
       "      <th>162</th>\n",
       "      <td>este</td>\n",
       "      <td>2360</td>\n",
       "    </tr>\n",
       "    <tr>\n",
       "      <th>176</th>\n",
       "      <td>familia</td>\n",
       "      <td>2096</td>\n",
       "    </tr>\n",
       "    <tr>\n",
       "      <th>221</th>\n",
       "      <td>ser</td>\n",
       "      <td>2064</td>\n",
       "    </tr>\n",
       "  </tbody>\n",
       "</table>\n",
       "</div>"
      ],
      "text/plain": [
       "        Token  Frecuencia\n",
       "39        que       42104\n",
       "21        del       20037\n",
       "98        por       18008\n",
       "38        los       16075\n",
       "71        las       10198\n",
       "86        con        9433\n",
       "422       una        5781\n",
       "189      para        5747\n",
       "100      como        4522\n",
       "18        art        4285\n",
       "16        ley        3002\n",
       "174      esta        2666\n",
       "135       sus        2626\n",
       "124      ello        2614\n",
       "57      fecha        2526\n",
       "51    recurso        2444\n",
       "163  tribunal        2407\n",
       "162      este        2360\n",
       "176   familia        2096\n",
       "221       ser        2064"
      ]
     },
     "metadata": {},
     "output_type": "display_data"
    },
    {
     "name": "stdout",
     "output_type": "stream",
     "text": [
      "\n",
      "Lista de tokens del corpus despues de eliminar las stopwords : \n"
     ]
    },
    {
     "data": {
      "text/html": [
       "<div>\n",
       "<style scoped>\n",
       "    .dataframe tbody tr th:only-of-type {\n",
       "        vertical-align: middle;\n",
       "    }\n",
       "\n",
       "    .dataframe tbody tr th {\n",
       "        vertical-align: top;\n",
       "    }\n",
       "\n",
       "    .dataframe thead th {\n",
       "        text-align: right;\n",
       "    }\n",
       "</style>\n",
       "<table border=\"1\" class=\"dataframe\">\n",
       "  <thead>\n",
       "    <tr style=\"text-align: right;\">\n",
       "      <th></th>\n",
       "      <th>Token</th>\n",
       "      <th>Frecuencia</th>\n",
       "    </tr>\n",
       "  </thead>\n",
       "  <tbody>\n",
       "    <tr>\n",
       "      <th>17</th>\n",
       "      <td>art</td>\n",
       "      <td>4285</td>\n",
       "    </tr>\n",
       "    <tr>\n",
       "      <th>15</th>\n",
       "      <td>ley</td>\n",
       "      <td>3002</td>\n",
       "    </tr>\n",
       "    <tr>\n",
       "      <th>111</th>\n",
       "      <td>ello</td>\n",
       "      <td>2614</td>\n",
       "    </tr>\n",
       "    <tr>\n",
       "      <th>52</th>\n",
       "      <td>fecha</td>\n",
       "      <td>2526</td>\n",
       "    </tr>\n",
       "    <tr>\n",
       "      <th>47</th>\n",
       "      <td>recurso</td>\n",
       "      <td>2444</td>\n",
       "    </tr>\n",
       "    <tr>\n",
       "      <th>147</th>\n",
       "      <td>tribunal</td>\n",
       "      <td>2407</td>\n",
       "    </tr>\n",
       "    <tr>\n",
       "      <th>158</th>\n",
       "      <td>familia</td>\n",
       "      <td>2096</td>\n",
       "    </tr>\n",
       "    <tr>\n",
       "      <th>199</th>\n",
       "      <td>ser</td>\n",
       "      <td>2064</td>\n",
       "    </tr>\n",
       "    <tr>\n",
       "      <th>242</th>\n",
       "      <td>debe</td>\n",
       "      <td>1947</td>\n",
       "    </tr>\n",
       "    <tr>\n",
       "      <th>513</th>\n",
       "      <td>parte</td>\n",
       "      <td>1906</td>\n",
       "    </tr>\n",
       "    <tr>\n",
       "      <th>40</th>\n",
       "      <td>señora</td>\n",
       "      <td>1831</td>\n",
       "    </tr>\n",
       "    <tr>\n",
       "      <th>11</th>\n",
       "      <td>autos</td>\n",
       "      <td>1823</td>\n",
       "    </tr>\n",
       "    <tr>\n",
       "      <th>7</th>\n",
       "      <td>dos</td>\n",
       "      <td>1811</td>\n",
       "    </tr>\n",
       "    <tr>\n",
       "      <th>68</th>\n",
       "      <td>señor</td>\n",
       "      <td>1723</td>\n",
       "    </tr>\n",
       "    <tr>\n",
       "      <th>408</th>\n",
       "      <td>caso</td>\n",
       "      <td>1713</td>\n",
       "    </tr>\n",
       "    <tr>\n",
       "      <th>307</th>\n",
       "      <td>derecho</td>\n",
       "      <td>1689</td>\n",
       "    </tr>\n",
       "    <tr>\n",
       "      <th>3622</th>\n",
       "      <td>expediente</td>\n",
       "      <td>1617</td>\n",
       "    </tr>\n",
       "    <tr>\n",
       "      <th>63</th>\n",
       "      <td>niño</td>\n",
       "      <td>1616</td>\n",
       "    </tr>\n",
       "    <tr>\n",
       "      <th>347</th>\n",
       "      <td>asi</td>\n",
       "      <td>1588</td>\n",
       "    </tr>\n",
       "    <tr>\n",
       "      <th>708</th>\n",
       "      <td>mas</td>\n",
       "      <td>1575</td>\n",
       "    </tr>\n",
       "  </tbody>\n",
       "</table>\n",
       "</div>"
      ],
      "text/plain": [
       "           Token  Frecuencia\n",
       "17           art        4285\n",
       "15           ley        3002\n",
       "111         ello        2614\n",
       "52         fecha        2526\n",
       "47       recurso        2444\n",
       "147     tribunal        2407\n",
       "158      familia        2096\n",
       "199          ser        2064\n",
       "242         debe        1947\n",
       "513        parte        1906\n",
       "40        señora        1831\n",
       "11         autos        1823\n",
       "7            dos        1811\n",
       "68         señor        1723\n",
       "408         caso        1713\n",
       "307      derecho        1689\n",
       "3622  expediente        1617\n",
       "63          niño        1616\n",
       "347          asi        1588\n",
       "708          mas        1575"
      ]
     },
     "metadata": {},
     "output_type": "display_data"
    }
   ],
   "source": [
    "print(\"Lista de tokens del corpus original : \")\n",
    "display(corpus_df[:20])\n",
    "print(\"\\nLista de tokens del corpus despues de eliminar las stopwords : \")\n",
    "display(corpus_df_sw[:20])"
   ]
  },
  {
   "cell_type": "markdown",
   "id": "026f6d6e-79f2-4ebf-a11c-627f94725f41",
   "metadata": {},
   "source": [
    "El stemming consiste en quitar y reemplazar sufijos de la raíz de la palabra.Ej: La raíz de la palabra trabajando = > trabajo.\n",
    "\n",
    "Los motores de búsqueda utilizan esta técnica al indexar páginas, puesto que muchas personas escriben versiones diferentes para la misma palabra y todas derivan de la palabra raíz.\n",
    "\n",
    "\n",
    "Nosotros usamos el SnowballStemmer, por que si bien hay otros que funcionan mejor (PorterStemmer), estan optimizados para otros idiomas. El SnowballStemmer es el unico que encontramos, configurable en Español \n"
   ]
  },
  {
   "cell_type": "code",
   "execution_count": 58,
   "id": "07edda0e-6fb6-4970-b659-e191c57bfa03",
   "metadata": {},
   "outputs": [
    {
     "data": {
      "text/plain": [
       "['aut',\n",
       " '122',\n",
       " '547',\n",
       " '552',\n",
       " 'cordob',\n",
       " 'veinticuatr',\n",
       " 'septiembr',\n",
       " 'dos',\n",
       " 'mil',\n",
       " 'diecioch',\n",
       " 'vist',\n",
       " 'aut',\n",
       " 'caratul',\n",
       " 'control',\n",
       " 'legal',\n",
       " 'ley',\n",
       " '9944',\n",
       " 'art',\n",
       " 'expte',\n",
       " 'ven']"
      ]
     },
     "execution_count": 58,
     "metadata": {},
     "output_type": "execute_result"
    }
   ],
   "source": [
    "from nltk.stem import SnowballStemmer\n",
    "\n",
    "spanish_stemmer = SnowballStemmer('spanish')\n",
    "\n",
    "tokens_stemm=[spanish_stemmer.stem(word) for word in words]\n",
    "tokens_stemm[:20]"
   ]
  },
  {
   "cell_type": "code",
   "execution_count": 59,
   "id": "5184a6b0-7461-4c72-aa81-09134238b157",
   "metadata": {},
   "outputs": [
    {
     "data": {
      "image/png": "[encoded data removed]",
      "text/plain": [
       "<Figure size 720x432 with 1 Axes>"
      ]
     },
     "metadata": {
      "needs_background": "light"
     },
     "output_type": "display_data"
    }
   ],
   "source": [
    "corpus_stemm = tokens2dataframe(tokens_stemm)\n",
    "graph_frequency(corpus_stemm)"
   ]
  },
  {
   "cell_type": "markdown",
   "id": "cfc97723-a8e0-4abb-801c-8465c75df1d8",
   "metadata": {},
   "source": [
    "La lematización es un proceso lingüístico que consiste en, dada una forma flexionada (es decir, en plural, en femenino, conjugada, etc), hallar el lema correspondiente. El lema es la forma que por convenio se acepta como representante de todas las formas flexionadas de una misma palabra. Es decir, el lema de una palabra es la palabra que nos encontraríamos como entrada en un diccionario tradicional.\n",
    "\n",
    "El problema es que al menos hasta la fecha NLTK no tiene incorporada lemmatización para idioma español.\n",
    "\n",
    "Por eso, utilizamos el WordNetLemmatizer, pero no vimos muy buenos resultados"
   ]
  },
  {
   "cell_type": "code",
   "execution_count": 60,
   "id": "7942c1f8-727f-41d6-a7ff-9e8affac0932",
   "metadata": {},
   "outputs": [
    {
     "data": {
      "text/plain": [
       "['auto',\n",
       " '122',\n",
       " '547',\n",
       " '552',\n",
       " 'cordoba',\n",
       " 'veinticuatro',\n",
       " 'septiembre',\n",
       " 'do',\n",
       " 'mil',\n",
       " 'dieciocho',\n",
       " 'vistos',\n",
       " 'auto',\n",
       " 'caratulados',\n",
       " 'control',\n",
       " 'legalidad',\n",
       " 'ley',\n",
       " '9944',\n",
       " 'art',\n",
       " 'expte',\n",
       " 'venidos']"
      ]
     },
     "execution_count": 60,
     "metadata": {},
     "output_type": "execute_result"
    }
   ],
   "source": [
    "from nltk.stem import WordNetLemmatizer\n",
    "\n",
    "lemmatizer = WordNetLemmatizer()\n",
    "\n",
    "tokens_lem=[lemmatizer.lemmatize(word) for word in words]\n",
    "tokens_lem[:20]\n"
   ]
  },
  {
   "cell_type": "code",
   "execution_count": 61,
   "id": "48077fa6-fa1e-4614-ad83-75f8e342cae0",
   "metadata": {},
   "outputs": [
    {
     "data": {
      "image/png": "[encoded data removed]",
      "text/plain": [
       "<Figure size 720x432 with 1 Axes>"
      ]
     },
     "metadata": {
      "needs_background": "light"
     },
     "output_type": "display_data"
    }
   ],
   "source": [
    "corpus_lem = tokens2dataframe(tokens_lem)\n",
    "graph_frequency(corpus_lem)"
   ]
  },
  {
   "cell_type": "code",
   "execution_count": 62,
   "id": "c0dc2be1-63d7-45dc-8df8-ea58e736cf98",
   "metadata": {},
   "outputs": [
    {
     "name": "stdout",
     "output_type": "stream",
     "text": [
      "Lista de tokens del corpus original : \n"
     ]
    },
    {
     "data": {
      "text/html": [
       "<div>\n",
       "<style scoped>\n",
       "    .dataframe tbody tr th:only-of-type {\n",
       "        vertical-align: middle;\n",
       "    }\n",
       "\n",
       "    .dataframe tbody tr th {\n",
       "        vertical-align: top;\n",
       "    }\n",
       "\n",
       "    .dataframe thead th {\n",
       "        text-align: right;\n",
       "    }\n",
       "</style>\n",
       "<table border=\"1\" class=\"dataframe\">\n",
       "  <thead>\n",
       "    <tr style=\"text-align: right;\">\n",
       "      <th></th>\n",
       "      <th>Token</th>\n",
       "      <th>Frecuencia</th>\n",
       "    </tr>\n",
       "  </thead>\n",
       "  <tbody>\n",
       "    <tr>\n",
       "      <th>39</th>\n",
       "      <td>que</td>\n",
       "      <td>42104</td>\n",
       "    </tr>\n",
       "    <tr>\n",
       "      <th>21</th>\n",
       "      <td>del</td>\n",
       "      <td>20037</td>\n",
       "    </tr>\n",
       "    <tr>\n",
       "      <th>98</th>\n",
       "      <td>por</td>\n",
       "      <td>18008</td>\n",
       "    </tr>\n",
       "    <tr>\n",
       "      <th>38</th>\n",
       "      <td>los</td>\n",
       "      <td>16075</td>\n",
       "    </tr>\n",
       "    <tr>\n",
       "      <th>71</th>\n",
       "      <td>las</td>\n",
       "      <td>10198</td>\n",
       "    </tr>\n",
       "    <tr>\n",
       "      <th>86</th>\n",
       "      <td>con</td>\n",
       "      <td>9433</td>\n",
       "    </tr>\n",
       "    <tr>\n",
       "      <th>422</th>\n",
       "      <td>una</td>\n",
       "      <td>5781</td>\n",
       "    </tr>\n",
       "    <tr>\n",
       "      <th>189</th>\n",
       "      <td>para</td>\n",
       "      <td>5747</td>\n",
       "    </tr>\n",
       "    <tr>\n",
       "      <th>100</th>\n",
       "      <td>como</td>\n",
       "      <td>4522</td>\n",
       "    </tr>\n",
       "    <tr>\n",
       "      <th>18</th>\n",
       "      <td>art</td>\n",
       "      <td>4285</td>\n",
       "    </tr>\n",
       "    <tr>\n",
       "      <th>16</th>\n",
       "      <td>ley</td>\n",
       "      <td>3002</td>\n",
       "    </tr>\n",
       "    <tr>\n",
       "      <th>174</th>\n",
       "      <td>esta</td>\n",
       "      <td>2666</td>\n",
       "    </tr>\n",
       "    <tr>\n",
       "      <th>135</th>\n",
       "      <td>sus</td>\n",
       "      <td>2626</td>\n",
       "    </tr>\n",
       "    <tr>\n",
       "      <th>124</th>\n",
       "      <td>ello</td>\n",
       "      <td>2614</td>\n",
       "    </tr>\n",
       "    <tr>\n",
       "      <th>57</th>\n",
       "      <td>fecha</td>\n",
       "      <td>2526</td>\n",
       "    </tr>\n",
       "    <tr>\n",
       "      <th>51</th>\n",
       "      <td>recurso</td>\n",
       "      <td>2444</td>\n",
       "    </tr>\n",
       "    <tr>\n",
       "      <th>163</th>\n",
       "      <td>tribunal</td>\n",
       "      <td>2407</td>\n",
       "    </tr>\n",
       "    <tr>\n",
       "      <th>162</th>\n",
       "      <td>este</td>\n",
       "      <td>2360</td>\n",
       "    </tr>\n",
       "    <tr>\n",
       "      <th>176</th>\n",
       "      <td>familia</td>\n",
       "      <td>2096</td>\n",
       "    </tr>\n",
       "    <tr>\n",
       "      <th>221</th>\n",
       "      <td>ser</td>\n",
       "      <td>2064</td>\n",
       "    </tr>\n",
       "  </tbody>\n",
       "</table>\n",
       "</div>"
      ],
      "text/plain": [
       "        Token  Frecuencia\n",
       "39        que       42104\n",
       "21        del       20037\n",
       "98        por       18008\n",
       "38        los       16075\n",
       "71        las       10198\n",
       "86        con        9433\n",
       "422       una        5781\n",
       "189      para        5747\n",
       "100      como        4522\n",
       "18        art        4285\n",
       "16        ley        3002\n",
       "174      esta        2666\n",
       "135       sus        2626\n",
       "124      ello        2614\n",
       "57      fecha        2526\n",
       "51    recurso        2444\n",
       "163  tribunal        2407\n",
       "162      este        2360\n",
       "176   familia        2096\n",
       "221       ser        2064"
      ]
     },
     "metadata": {},
     "output_type": "display_data"
    },
    {
     "name": "stdout",
     "output_type": "stream",
     "text": [
      "\n",
      "Lista de tokens del corpus tras eliminar las stopwords : \n"
     ]
    },
    {
     "data": {
      "text/html": [
       "<div>\n",
       "<style scoped>\n",
       "    .dataframe tbody tr th:only-of-type {\n",
       "        vertical-align: middle;\n",
       "    }\n",
       "\n",
       "    .dataframe tbody tr th {\n",
       "        vertical-align: top;\n",
       "    }\n",
       "\n",
       "    .dataframe thead th {\n",
       "        text-align: right;\n",
       "    }\n",
       "</style>\n",
       "<table border=\"1\" class=\"dataframe\">\n",
       "  <thead>\n",
       "    <tr style=\"text-align: right;\">\n",
       "      <th></th>\n",
       "      <th>Token</th>\n",
       "      <th>Frecuencia</th>\n",
       "    </tr>\n",
       "  </thead>\n",
       "  <tbody>\n",
       "    <tr>\n",
       "      <th>17</th>\n",
       "      <td>art</td>\n",
       "      <td>4285</td>\n",
       "    </tr>\n",
       "    <tr>\n",
       "      <th>15</th>\n",
       "      <td>ley</td>\n",
       "      <td>3002</td>\n",
       "    </tr>\n",
       "    <tr>\n",
       "      <th>111</th>\n",
       "      <td>ello</td>\n",
       "      <td>2614</td>\n",
       "    </tr>\n",
       "    <tr>\n",
       "      <th>52</th>\n",
       "      <td>fecha</td>\n",
       "      <td>2526</td>\n",
       "    </tr>\n",
       "    <tr>\n",
       "      <th>47</th>\n",
       "      <td>recurso</td>\n",
       "      <td>2444</td>\n",
       "    </tr>\n",
       "    <tr>\n",
       "      <th>147</th>\n",
       "      <td>tribunal</td>\n",
       "      <td>2407</td>\n",
       "    </tr>\n",
       "    <tr>\n",
       "      <th>158</th>\n",
       "      <td>familia</td>\n",
       "      <td>2096</td>\n",
       "    </tr>\n",
       "    <tr>\n",
       "      <th>199</th>\n",
       "      <td>ser</td>\n",
       "      <td>2064</td>\n",
       "    </tr>\n",
       "    <tr>\n",
       "      <th>242</th>\n",
       "      <td>debe</td>\n",
       "      <td>1947</td>\n",
       "    </tr>\n",
       "    <tr>\n",
       "      <th>513</th>\n",
       "      <td>parte</td>\n",
       "      <td>1906</td>\n",
       "    </tr>\n",
       "    <tr>\n",
       "      <th>40</th>\n",
       "      <td>señora</td>\n",
       "      <td>1831</td>\n",
       "    </tr>\n",
       "    <tr>\n",
       "      <th>11</th>\n",
       "      <td>autos</td>\n",
       "      <td>1823</td>\n",
       "    </tr>\n",
       "    <tr>\n",
       "      <th>7</th>\n",
       "      <td>dos</td>\n",
       "      <td>1811</td>\n",
       "    </tr>\n",
       "    <tr>\n",
       "      <th>68</th>\n",
       "      <td>señor</td>\n",
       "      <td>1723</td>\n",
       "    </tr>\n",
       "    <tr>\n",
       "      <th>408</th>\n",
       "      <td>caso</td>\n",
       "      <td>1713</td>\n",
       "    </tr>\n",
       "    <tr>\n",
       "      <th>307</th>\n",
       "      <td>derecho</td>\n",
       "      <td>1689</td>\n",
       "    </tr>\n",
       "    <tr>\n",
       "      <th>3622</th>\n",
       "      <td>expediente</td>\n",
       "      <td>1617</td>\n",
       "    </tr>\n",
       "    <tr>\n",
       "      <th>63</th>\n",
       "      <td>niño</td>\n",
       "      <td>1616</td>\n",
       "    </tr>\n",
       "    <tr>\n",
       "      <th>347</th>\n",
       "      <td>asi</td>\n",
       "      <td>1588</td>\n",
       "    </tr>\n",
       "    <tr>\n",
       "      <th>708</th>\n",
       "      <td>mas</td>\n",
       "      <td>1575</td>\n",
       "    </tr>\n",
       "  </tbody>\n",
       "</table>\n",
       "</div>"
      ],
      "text/plain": [
       "           Token  Frecuencia\n",
       "17           art        4285\n",
       "15           ley        3002\n",
       "111         ello        2614\n",
       "52         fecha        2526\n",
       "47       recurso        2444\n",
       "147     tribunal        2407\n",
       "158      familia        2096\n",
       "199          ser        2064\n",
       "242         debe        1947\n",
       "513        parte        1906\n",
       "40        señora        1831\n",
       "11         autos        1823\n",
       "7            dos        1811\n",
       "68         señor        1723\n",
       "408         caso        1713\n",
       "307      derecho        1689\n",
       "3622  expediente        1617\n",
       "63          niño        1616\n",
       "347          asi        1588\n",
       "708          mas        1575"
      ]
     },
     "metadata": {},
     "output_type": "display_data"
    },
    {
     "name": "stdout",
     "output_type": "stream",
     "text": [
      "\n",
      "Lista de tokens del corpus tras realizar la lemmatización : \n"
     ]
    },
    {
     "data": {
      "text/html": [
       "<div>\n",
       "<style scoped>\n",
       "    .dataframe tbody tr th:only-of-type {\n",
       "        vertical-align: middle;\n",
       "    }\n",
       "\n",
       "    .dataframe tbody tr th {\n",
       "        vertical-align: top;\n",
       "    }\n",
       "\n",
       "    .dataframe thead th {\n",
       "        text-align: right;\n",
       "    }\n",
       "</style>\n",
       "<table border=\"1\" class=\"dataframe\">\n",
       "  <thead>\n",
       "    <tr style=\"text-align: right;\">\n",
       "      <th></th>\n",
       "      <th>Token</th>\n",
       "      <th>Frecuencia</th>\n",
       "    </tr>\n",
       "  </thead>\n",
       "  <tbody>\n",
       "    <tr>\n",
       "      <th>16</th>\n",
       "      <td>art</td>\n",
       "      <td>5304</td>\n",
       "    </tr>\n",
       "    <tr>\n",
       "      <th>14</th>\n",
       "      <td>ley</td>\n",
       "      <td>3002</td>\n",
       "    </tr>\n",
       "    <tr>\n",
       "      <th>0</th>\n",
       "      <td>auto</td>\n",
       "      <td>2659</td>\n",
       "    </tr>\n",
       "    <tr>\n",
       "      <th>110</th>\n",
       "      <td>ello</td>\n",
       "      <td>2614</td>\n",
       "    </tr>\n",
       "    <tr>\n",
       "      <th>51</th>\n",
       "      <td>fecha</td>\n",
       "      <td>2526</td>\n",
       "    </tr>\n",
       "    <tr>\n",
       "      <th>46</th>\n",
       "      <td>recurso</td>\n",
       "      <td>2444</td>\n",
       "    </tr>\n",
       "    <tr>\n",
       "      <th>146</th>\n",
       "      <td>tribunal</td>\n",
       "      <td>2407</td>\n",
       "    </tr>\n",
       "    <tr>\n",
       "      <th>157</th>\n",
       "      <td>familia</td>\n",
       "      <td>2096</td>\n",
       "    </tr>\n",
       "    <tr>\n",
       "      <th>198</th>\n",
       "      <td>ser</td>\n",
       "      <td>2064</td>\n",
       "    </tr>\n",
       "    <tr>\n",
       "      <th>241</th>\n",
       "      <td>debe</td>\n",
       "      <td>1947</td>\n",
       "    </tr>\n",
       "    <tr>\n",
       "      <th>510</th>\n",
       "      <td>parte</td>\n",
       "      <td>1906</td>\n",
       "    </tr>\n",
       "    <tr>\n",
       "      <th>39</th>\n",
       "      <td>señora</td>\n",
       "      <td>1831</td>\n",
       "    </tr>\n",
       "    <tr>\n",
       "      <th>7</th>\n",
       "      <td>do</td>\n",
       "      <td>1811</td>\n",
       "    </tr>\n",
       "    <tr>\n",
       "      <th>67</th>\n",
       "      <td>señor</td>\n",
       "      <td>1723</td>\n",
       "    </tr>\n",
       "    <tr>\n",
       "      <th>405</th>\n",
       "      <td>caso</td>\n",
       "      <td>1713</td>\n",
       "    </tr>\n",
       "    <tr>\n",
       "      <th>304</th>\n",
       "      <td>derecho</td>\n",
       "      <td>1689</td>\n",
       "    </tr>\n",
       "    <tr>\n",
       "      <th>3603</th>\n",
       "      <td>expediente</td>\n",
       "      <td>1617</td>\n",
       "    </tr>\n",
       "    <tr>\n",
       "      <th>62</th>\n",
       "      <td>niño</td>\n",
       "      <td>1616</td>\n",
       "    </tr>\n",
       "    <tr>\n",
       "      <th>344</th>\n",
       "      <td>asi</td>\n",
       "      <td>1588</td>\n",
       "    </tr>\n",
       "    <tr>\n",
       "      <th>704</th>\n",
       "      <td>ma</td>\n",
       "      <td>1575</td>\n",
       "    </tr>\n",
       "  </tbody>\n",
       "</table>\n",
       "</div>"
      ],
      "text/plain": [
       "           Token  Frecuencia\n",
       "16           art        5304\n",
       "14           ley        3002\n",
       "0           auto        2659\n",
       "110         ello        2614\n",
       "51         fecha        2526\n",
       "46       recurso        2444\n",
       "146     tribunal        2407\n",
       "157      familia        2096\n",
       "198          ser        2064\n",
       "241         debe        1947\n",
       "510        parte        1906\n",
       "39        señora        1831\n",
       "7             do        1811\n",
       "67         señor        1723\n",
       "405         caso        1713\n",
       "304      derecho        1689\n",
       "3603  expediente        1617\n",
       "62          niño        1616\n",
       "344          asi        1588\n",
       "704           ma        1575"
      ]
     },
     "metadata": {},
     "output_type": "display_data"
    }
   ],
   "source": [
    "print(\"Lista de tokens del corpus original : \")\n",
    "display(corpus_df[:20])\n",
    "print(\"\\nLista de tokens del corpus tras eliminar las stopwords : \")\n",
    "display(corpus_df_sw[:20])\n",
    "# print(\"\\nLista de tokens del corpus tras realizar el steamming : \")\n",
    "# print(corpus_stemm[:20])\n",
    "print(\"\\nLista de tokens del corpus tras realizar la lemmatización : \")\n",
    "display(corpus_lem[:20])"
   ]
  },
  {
   "cell_type": "markdown",
   "id": "bd96c901-b9fc-47c9-b523-57768fa7f13d",
   "metadata": {},
   "source": [
    "### Análisis del corpus total"
   ]
  },
  {
   "cell_type": "code",
   "execution_count": 63,
   "id": "cf404a11-c251-4413-80cc-12ee41f92988",
   "metadata": {},
   "outputs": [
    {
     "data": {
      "image/png": "[encoded data removed]",
      "text/plain": [
       "<Figure size 720x432 with 1 Axes>"
      ]
     },
     "metadata": {
      "needs_background": "light"
     },
     "output_type": "display_data"
    }
   ],
   "source": [
    "data=tokens2dataframe(words)\n",
    "graph_frequency(data)"
   ]
  },
  {
   "cell_type": "markdown",
   "id": "8493fbf3-6b02-4bcd-bbb3-e2c878b44da9",
   "metadata": {},
   "source": [
    "Aqui creamos una funcion para eliminar las palabras que tengan una frecuencia menor a n y pudimos observar que la mayor frecuencia de palabras se agrupan en un 1% de todo el conjunto total de palabras "
   ]
  },
  {
   "cell_type": "code",
   "execution_count": 64,
   "id": "7a1befcb-d6c5-45b3-9e82-c9c1ad8c9f95",
   "metadata": {},
   "outputs": [
    {
     "data": {
      "text/plain": [
       "610286"
      ]
     },
     "execution_count": 64,
     "metadata": {},
     "output_type": "execute_result"
    }
   ],
   "source": [
    "len(words)"
   ]
  },
  {
   "cell_type": "code",
   "execution_count": 65,
   "id": "6134e2ca-508f-4002-8274-c344592d3d2f",
   "metadata": {
    "tags": []
   },
   "outputs": [
    {
     "data": {
      "text/plain": [
       "6742"
      ]
     },
     "execution_count": 65,
     "metadata": {},
     "output_type": "execute_result"
    },
    {
     "data": {
      "image/png": "[encoded data removed]",
      "text/plain": [
       "<Figure size 720x432 with 1 Axes>"
      ]
     },
     "metadata": {
      "needs_background": "light"
     },
     "output_type": "display_data"
    }
   ],
   "source": [
    "def delete_low_frecuency_words(dataframe, n):\n",
    "    return dataframe[dataframe['Frecuencia']>n]\n",
    "data= delete_low_frecuency_words(data,10)\n",
    "graph_frequency(data)\n",
    "len(data)"
   ]
  },
  {
   "cell_type": "code",
   "execution_count": 66,
   "id": "2b9a79a6-ee29-4f45-a5fb-cc1bff1340af",
   "metadata": {},
   "outputs": [],
   "source": [
    "root=os.getcwd()\n",
    "dirname=f'{root}\\\\Documentos'\n",
    "def corpus_for_fuero(fuero):\n",
    "    path_fuero=f'{dirname}\\{fuero}'\n",
    "    files = os.listdir(path_fuero)\n",
    "    corpus=[]\n",
    "    for file in files:\n",
    "        path=f'{path_fuero}\\{file}'\n",
    "        f = open (path,'r', encoding=\"utf8\")\n",
    "        corpus.append(f.read())\n",
    "    corpus=','. join(corpus)\n",
    "    return corpus.lower(),files\n",
    "def getListOfFiles(dirName, quantity=None):\n",
    "    # create a list of file and sub directories \n",
    "    # names in the given directory\n",
    "    files = os.listdir(dirName)\n",
    "    allFiles = list()\n",
    "    # Iterate over all the entries\n",
    "    if not quantity:\n",
    "        for file in files:\n",
    "            # Create full path\n",
    "            fullPath = dirName + \"\\\\\" + file\n",
    "            # If entry is a directory then get the list of files in this directory \n",
    "            if os.path.isdir(fullPath) and not quantity:\n",
    "                allFiles = allFiles + getListOfFiles(fullPath)\n",
    "            else:\n",
    "                allFiles.append(fullPath)\n",
    "    else:\n",
    "        allFiles = allFiles + getListOfFiles(dirName)[:quantity]\n",
    "    return allFiles\n",
    "\n",
    "\n",
    "def create_corpus(file_list):\n",
    "    corpus=[]\n",
    "    for file in file_list:\n",
    "        f = open (file,'r', encoding=\"utf8\")\n",
    "        corpus.append(f.read())\n",
    "    corpus=','. join(corpus)\n",
    "    return corpus"
   ]
  },
  {
   "cell_type": "code",
   "execution_count": 67,
   "id": "c0f1e16e-4d1a-4402-869f-c3b6155b2cc4",
   "metadata": {},
   "outputs": [],
   "source": [
    "def clean_corpus(corpus):\n",
    "    tokenizer = RegexpTokenizer(r'\\w+')\n",
    "    tokens=tokenizer.tokenize(corpus)\n",
    "    tokens_normalize = [normalize(word) for word in tokens ]\n",
    "    words = [token for token in tokens_normalize if token not in stopwords_tokens]\n",
    "    tokens_stemm=[spanish_stemmer.stem(word) for word in words]\n",
    "    tokens_clean= [token for token in tokens_lem if len(token) > 1]\n",
    "    data=tokens2dataframe(tokens_clean)\n",
    "    graph_frequency(data)"
   ]
  },
  {
   "cell_type": "markdown",
   "id": "663b58eb-e1f3-4714-91c7-0edde8ca33d9",
   "metadata": {},
   "source": [
    "### Fuero Familia"
   ]
  },
  {
   "cell_type": "code",
   "execution_count": 68,
   "id": "c80ca32c-7f62-4011-b1b3-57011a29f49a",
   "metadata": {},
   "outputs": [
    {
     "data": {
      "image/png": "[encoded data removed]",
      "text/plain": [
       "<Figure size 720x432 with 1 Axes>"
      ]
     },
     "metadata": {
      "needs_background": "light"
     },
     "output_type": "display_data"
    }
   ],
   "source": [
    "corpus_familia, files_familia=corpus_for_fuero('FAMILIA')\n",
    "clean_corpus(corpus_familia)"
   ]
  },
  {
   "cell_type": "markdown",
   "id": "dbf32fa6-93e7-4ec0-a33c-6aa83164e509",
   "metadata": {},
   "source": [
    "***5 archivos del Fuero Familia***"
   ]
  },
  {
   "cell_type": "code",
   "execution_count": 69,
   "id": "c0a992ee-986b-4ef2-b3be-f86c4883ab08",
   "metadata": {},
   "outputs": [
    {
     "data": {
      "image/png": "[encoded data removed]",
      "text/plain": [
       "<Figure size 720x432 with 1 Axes>"
      ]
     },
     "metadata": {
      "needs_background": "light"
     },
     "output_type": "display_data"
    }
   ],
   "source": [
    "list_of_five_files_familia=getListOfFiles(dirname+ '\\FAMILIA', 5)\n",
    "corpus_five_familia=create_corpus(list_of_five_files_familia)\n",
    "clean_corpus(corpus_five_familia)"
   ]
  },
  {
   "cell_type": "markdown",
   "id": "d9d960a0-a0ab-4bbd-99f9-d333fd36eb0b",
   "metadata": {},
   "source": [
    "### Fuero Laboral"
   ]
  },
  {
   "cell_type": "code",
   "execution_count": 70,
   "id": "84a8dc77-7b65-4b6b-975f-ca5fcb1004a0",
   "metadata": {},
   "outputs": [
    {
     "data": {
      "image/png": "[encoded data removed]",
      "text/plain": [
       "<Figure size 720x432 with 1 Axes>"
      ]
     },
     "metadata": {
      "needs_background": "light"
     },
     "output_type": "display_data"
    }
   ],
   "source": [
    "corpus_laboral,files_laboral=corpus_for_fuero('LABORAL')\n",
    "clean_corpus(corpus_laboral)"
   ]
  },
  {
   "cell_type": "markdown",
   "id": "8435d1a6-9d6b-4ae6-9f8d-685ac4a1e24c",
   "metadata": {},
   "source": [
    "***5 archivos del Fuero Laboral***"
   ]
  },
  {
   "cell_type": "code",
   "execution_count": 71,
   "id": "bf3c9622-8c60-4e27-aa47-f2f6ec028abd",
   "metadata": {},
   "outputs": [
    {
     "data": {
      "image/png": "[encoded data removed]",
      "text/plain": [
       "<Figure size 720x432 with 1 Axes>"
      ]
     },
     "metadata": {
      "needs_background": "light"
     },
     "output_type": "display_data"
    }
   ],
   "source": [
    "list_of_five_files_laboral=getListOfFiles(dirname+'\\LABORAL', 5)\n",
    "corpus_five_laboral=create_corpus(list_of_five_files_laboral)\n",
    "clean_corpus(corpus_five_laboral)"
   ]
  },
  {
   "cell_type": "markdown",
   "id": "ec6ff12e-dad5-4ab5-9c1a-d6ed22d96118",
   "metadata": {},
   "source": [
    "### Fuero Menores"
   ]
  },
  {
   "cell_type": "code",
   "execution_count": 72,
   "id": "cc205a9e-b441-493f-b44c-91cb19dd2e32",
   "metadata": {},
   "outputs": [
    {
     "data": {
      "image/png": "[encoded data removed]",
      "text/plain": [
       "<Figure size 720x432 with 1 Axes>"
      ]
     },
     "metadata": {
      "needs_background": "light"
     },
     "output_type": "display_data"
    }
   ],
   "source": [
    "corpus_menores,files_menores=corpus_for_fuero('MENORES')\n",
    "clean_corpus(corpus_menores)"
   ]
  },
  {
   "cell_type": "markdown",
   "id": "eed42347-7f29-43db-843b-65656d390a0a",
   "metadata": {},
   "source": [
    "***5 archivos del Fuero Menores***"
   ]
  },
  {
   "cell_type": "code",
   "execution_count": 73,
   "id": "a818bb64-6749-4852-9a66-3c09852b83c1",
   "metadata": {},
   "outputs": [
    {
     "data": {
      "image/png": "[encoded data removed]",
      "text/plain": [
       "<Figure size 720x432 with 1 Axes>"
      ]
     },
     "metadata": {
      "needs_background": "light"
     },
     "output_type": "display_data"
    }
   ],
   "source": [
    "list_of_five_files_menores=getListOfFiles(dirname+ '\\MENORES', 5)\n",
    "corpus_five_menores=create_corpus(list_of_five_files_menores)\n",
    "clean_corpus(corpus_five_menores)"
   ]
  },
  {
   "cell_type": "markdown",
   "id": "7d536b2d-2fc5-4c68-9ac0-042140702daf",
   "metadata": {},
   "source": [
    "### Fuero Penal"
   ]
  },
  {
   "cell_type": "code",
   "execution_count": 74,
   "id": "8b99eadb-9d03-4826-9934-1bc4643316e3",
   "metadata": {},
   "outputs": [
    {
     "data": {
      "image/png": "[encoded data removed]",
      "text/plain": [
       "<Figure size 720x432 with 1 Axes>"
      ]
     },
     "metadata": {
      "needs_background": "light"
     },
     "output_type": "display_data"
    }
   ],
   "source": [
    "corpus_penal,files_penal=corpus_for_fuero('PENAL')\n",
    "clean_corpus(corpus_penal)"
   ]
  },
  {
   "cell_type": "markdown",
   "id": "766e692e-3efa-4258-b039-fd5ba3329055",
   "metadata": {},
   "source": [
    "***5 archivos del fuero penal***"
   ]
  },
  {
   "cell_type": "code",
   "execution_count": 75,
   "id": "9ce8c5f8-d555-48a1-9e55-38c105198c31",
   "metadata": {},
   "outputs": [
    {
     "data": {
      "image/png": "[encoded data removed]",
      "text/plain": [
       "<Figure size 720x432 with 1 Axes>"
      ]
     },
     "metadata": {
      "needs_background": "light"
     },
     "output_type": "display_data"
    }
   ],
   "source": [
    "list_of_five_files_penal=getListOfFiles(dirname+ '\\PENAL', 5)\n",
    "corpus_five_penal=create_corpus(list_of_five_files_penal)\n",
    "clean_corpus(corpus_five_penal)"
   ]
  },
  {
   "cell_type": "markdown",
   "id": "a6eb7eb3-6410-42ec-aeaf-97128c48554a",
   "metadata": {},
   "source": [
    "***Stemming vs Lemmatizing***"
   ]
  },
  {
   "cell_type": "code",
   "execution_count": 76,
   "id": "6d66b349-051e-463c-b4fe-bac23f416025",
   "metadata": {},
   "outputs": [
    {
     "data": {
      "text/html": [
       "<div>\n",
       "<style scoped>\n",
       "    .dataframe tbody tr th:only-of-type {\n",
       "        vertical-align: middle;\n",
       "    }\n",
       "\n",
       "    .dataframe tbody tr th {\n",
       "        vertical-align: top;\n",
       "    }\n",
       "\n",
       "    .dataframe thead th {\n",
       "        text-align: right;\n",
       "    }\n",
       "</style>\n",
       "<table border=\"1\" class=\"dataframe\">\n",
       "  <thead>\n",
       "    <tr style=\"text-align: right;\">\n",
       "      <th></th>\n",
       "      <th>words</th>\n",
       "      <th>Stemming</th>\n",
       "      <th>Lemmatizing</th>\n",
       "    </tr>\n",
       "  </thead>\n",
       "  <tbody>\n",
       "    <tr>\n",
       "      <th>0</th>\n",
       "      <td>abreviado</td>\n",
       "      <td>abrevi</td>\n",
       "      <td>abreviado</td>\n",
       "    </tr>\n",
       "    <tr>\n",
       "      <th>1</th>\n",
       "      <td>contesta</td>\n",
       "      <td>contest</td>\n",
       "      <td>contesta</td>\n",
       "    </tr>\n",
       "    <tr>\n",
       "      <th>2</th>\n",
       "      <td>cpcc</td>\n",
       "      <td>cpcc</td>\n",
       "      <td>cpcc</td>\n",
       "    </tr>\n",
       "    <tr>\n",
       "      <th>3</th>\n",
       "      <td>presente</td>\n",
       "      <td>present</td>\n",
       "      <td>presente</td>\n",
       "    </tr>\n",
       "    <tr>\n",
       "      <th>4</th>\n",
       "      <td>certeza</td>\n",
       "      <td>certez</td>\n",
       "      <td>certeza</td>\n",
       "    </tr>\n",
       "    <tr>\n",
       "      <th>5</th>\n",
       "      <td>matricula</td>\n",
       "      <td>matricul</td>\n",
       "      <td>matricula</td>\n",
       "    </tr>\n",
       "    <tr>\n",
       "      <th>6</th>\n",
       "      <td>art</td>\n",
       "      <td>art</td>\n",
       "      <td>art</td>\n",
       "    </tr>\n",
       "    <tr>\n",
       "      <th>7</th>\n",
       "      <td>bien</td>\n",
       "      <td>bien</td>\n",
       "      <td>bien</td>\n",
       "    </tr>\n",
       "    <tr>\n",
       "      <th>8</th>\n",
       "      <td>vocal</td>\n",
       "      <td>vocal</td>\n",
       "      <td>vocal</td>\n",
       "    </tr>\n",
       "    <tr>\n",
       "      <th>9</th>\n",
       "      <td>realizacion</td>\n",
       "      <td>realizacion</td>\n",
       "      <td>realizacion</td>\n",
       "    </tr>\n",
       "    <tr>\n",
       "      <th>10</th>\n",
       "      <td>hassemer</td>\n",
       "      <td>hassem</td>\n",
       "      <td>hassemer</td>\n",
       "    </tr>\n",
       "    <tr>\n",
       "      <th>11</th>\n",
       "      <td>mariel</td>\n",
       "      <td>mariel</td>\n",
       "      <td>mariel</td>\n",
       "    </tr>\n",
       "    <tr>\n",
       "      <th>12</th>\n",
       "      <td>motivar</td>\n",
       "      <td>motiv</td>\n",
       "      <td>motivar</td>\n",
       "    </tr>\n",
       "    <tr>\n",
       "      <th>13</th>\n",
       "      <td>mismo</td>\n",
       "      <td>mism</td>\n",
       "      <td>mismo</td>\n",
       "    </tr>\n",
       "    <tr>\n",
       "      <th>14</th>\n",
       "      <td>identificacion</td>\n",
       "      <td>identificacion</td>\n",
       "      <td>identificacion</td>\n",
       "    </tr>\n",
       "    <tr>\n",
       "      <th>15</th>\n",
       "      <td>relatar</td>\n",
       "      <td>relat</td>\n",
       "      <td>relatar</td>\n",
       "    </tr>\n",
       "    <tr>\n",
       "      <th>16</th>\n",
       "      <td>mantenido</td>\n",
       "      <td>manten</td>\n",
       "      <td>mantenido</td>\n",
       "    </tr>\n",
       "    <tr>\n",
       "      <th>17</th>\n",
       "      <td>procesos</td>\n",
       "      <td>proces</td>\n",
       "      <td>procesos</td>\n",
       "    </tr>\n",
       "    <tr>\n",
       "      <th>18</th>\n",
       "      <td>debe</td>\n",
       "      <td>deb</td>\n",
       "      <td>debe</td>\n",
       "    </tr>\n",
       "    <tr>\n",
       "      <th>19</th>\n",
       "      <td>solucion</td>\n",
       "      <td>solucion</td>\n",
       "      <td>solucion</td>\n",
       "    </tr>\n",
       "  </tbody>\n",
       "</table>\n",
       "</div>"
      ],
      "text/plain": [
       "             words        Stemming     Lemmatizing\n",
       "0        abreviado          abrevi       abreviado\n",
       "1         contesta         contest        contesta\n",
       "2             cpcc            cpcc            cpcc\n",
       "3         presente         present        presente\n",
       "4          certeza          certez         certeza\n",
       "5        matricula        matricul       matricula\n",
       "6              art             art             art\n",
       "7             bien            bien            bien\n",
       "8            vocal           vocal           vocal\n",
       "9      realizacion     realizacion     realizacion\n",
       "10        hassemer          hassem        hassemer\n",
       "11          mariel          mariel          mariel\n",
       "12         motivar           motiv         motivar\n",
       "13           mismo            mism           mismo\n",
       "14  identificacion  identificacion  identificacion\n",
       "15         relatar           relat         relatar\n",
       "16       mantenido          manten       mantenido\n",
       "17        procesos          proces        procesos\n",
       "18            debe             deb            debe\n",
       "19        solucion        solucion        solucion"
      ]
     },
     "execution_count": 76,
     "metadata": {},
     "output_type": "execute_result"
    }
   ],
   "source": [
    "import random\n",
    "def lemmatizing(words):\n",
    "    lemmatizer = WordNetLemmatizer()\n",
    "    return [lemmatizer.lemmatize(word) for word in words]\n",
    "    \n",
    "def stemming(words):\n",
    "    spanish_stemmer = SnowballStemmer('spanish')\n",
    "    return [spanish_stemmer.stem(word) for word in words]\n",
    "    \n",
    "cant_words=20\n",
    "words_comparison=random.sample(words, cant_words)\n",
    "words_stemming=stemming(words_comparison)\n",
    "words_lemmatizing=lemmatizing(words_comparison)\n",
    "\n",
    "data_comparison=pd.DataFrame(words_comparison, columns=['words'])\n",
    "data_comparison['Stemming']=words_stemming\n",
    "data_comparison['Lemmatizing']=words_lemmatizing\n",
    "data_comparison"
   ]
  },
  {
   "cell_type": "markdown",
   "id": "cfa7e7d7-83be-4d97-98e9-98290a481255",
   "metadata": {},
   "source": [
    "Los algoritmos de stemming funcionan cortando el final o el comienzo de la palabra, teniendo en cuenta una lista de prefijos y sufijos comunes que se pueden encontrar en una palabra flexionada. Este corte indiscriminado puede tener éxito en algunas ocasiones, pero no siempre, por eso afirmamos que este enfoque presenta algunas limitaciones.\n",
    "\n",
    "\n",
    "La lematización considera el contexto y convierte la palabra a su forma básica significativa, que se llama Lema. Para extraer el lema adecuado, es necesario fijarse en el análisis morfológico de cada palabra.\n",
    "\n",
    "\n",
    "La lemmatizacion es mas lenta que la stemmatizacion. En los ejemplos se puede ver que ninguna es muy optima, por un lado por que en la stemmatizacion se queda con la raiz de las palabras y en el castellano no parece funcionar muy bien, por otro lado la lemmatizacion no hace practicamente cambios, deducimos que tambien se debe a que no esta optimizado para el castellano y por eso no encuentra variables morfologicas de cada palabra"
   ]
  },
  {
   "cell_type": "code",
   "execution_count": 77,
   "id": "a48112bc-df4e-42b8-8380-c2dd72737e69",
   "metadata": {},
   "outputs": [
    {
     "data": {
      "text/plain": [
       "['remataria', 'remate', 'rematando', 'rematasemos']"
      ]
     },
     "execution_count": 77,
     "metadata": {},
     "output_type": "execute_result"
    }
   ],
   "source": [
    "#Ejemplo de lematizacion que no funciona para el español\n",
    "\n",
    "español = ['remataria', 'remate', 'rematando', 'rematasemos']\n",
    "\n",
    "lems = [lemmatizer.lemmatize(word) for word in español]\n",
    "lems"
   ]
  },
  {
   "cell_type": "markdown",
   "id": "924345bf-9b43-4cb0-bc20-3f47d9cdf18d",
   "metadata": {},
   "source": [
    "***OPCIONAL***"
   ]
  },
  {
   "cell_type": "markdown",
   "id": "380a9d8f-09cf-440b-aab8-75cc50cf2b7a",
   "metadata": {},
   "source": [
    "***Tokenización:***\n",
    "\n",
    "La tokenización es el proceso de dividir un documento de texto en sus distintos componentes, descartando los espacios en blancos y saltos de línea. Un token es una cadena de caracteres (palabra o un signo de puntuación) con algún significado en el contexto de un texto. Por ejemplo, el texto “El niño corre” tiene tres tokens: {'El', 'niño', 'corre'}. Aunque la tokenización puede resultar trivial, no lo es si se considera que existen caracteres que algunas veces pueden ser parte de un token y otras veces pueden resultar ser separadores de tokens. Por ejemplo, el carácter punto puede ser parte de una abreviatura o sigla, pero también puede resultar ser separador de oraciones.\n",
    "\n",
    "***Segmentación:***\n",
    "\n",
    "Consiste en separar el texto en fragmentos que puedan tratarse de forma independiente. La forma más usual de segmentación es dividir el texto en párrafos u oraciones."
   ]
  },
  {
   "cell_type": "code",
   "execution_count": 78,
   "id": "b58e66d1-7c45-4bce-955a-06a1cfd332f4",
   "metadata": {},
   "outputs": [
    {
     "data": {
      "text/plain": [
       "['abierto el acto por la\\xa0señora presidente se informa que las cuestiones a resolver son las\\n\\nsiguientes:  \\n\\n1°) ¿ha sido indebidamente fundado el enunciado relativo a la participación de la imputada\\n\\nexpediente nro.',\n",
       " 'es que este tribunal de alzada no puede desconocer, que si bien parar asistir al hijo en edad escolar y con mayor interacción social, el importe que surge del porcentaje fijado es necesario para afrontar las necesidades referidas a alimentación, vestimenta, educación y esparcimiento (art.',\n",
       " '2710546   -   4 / \\n\\n21\\x0cque tal valoración es errónea, ya que el nombrado manifestó expresamente “…\\n\\nque quiere dejar la droga, que se le aplique un tratamiento psicológico para\\n\\nconcluir con los problemas que lo llevan a la drogadicción y a esta vida en el\\n\\ndelito …” (f. 358 vta.).',\n",
       " '288 se ordena correr el traslado a la señora asesora de familia interviniente, respondiendo a fs.',\n",
       " '716/717) señalan que azcurra ha logrado un posicionamiento más\\n\\nactivo  en  el  hecho  por  el  que  cumple  condena,  lo  que  hizo  posible  la\\n\\nprofundización de variables personales y de su historia vital, aumentando su\\n\\ntolerancia a la frustración y logrando una mejora en el control de sus impulsos.']"
      ]
     },
     "execution_count": 78,
     "metadata": {},
     "output_type": "execute_result"
    }
   ],
   "source": [
    "from nltk.tokenize import sent_tokenize\n",
    "tokenizer = nltk.sent_tokenize(corpus)\n",
    "random.sample(tokenizer,5)"
   ]
  },
  {
   "cell_type": "markdown",
   "id": "c9cfc002-41b5-4458-aded-332e374abe3f",
   "metadata": {},
   "source": [
    "***Reconocimiento de entidades nombradas:***\n",
    "\n",
    "El reconocimiento de entidades nombradas, tambien conocido como extraccion de entidades, es una\n",
    "tarea de extraccion de informacion que busca localizar y clasificar en\n",
    "categorıas predefinidas como personas, organizaciones, lugares, expresiones de tiempo y cantidades, las entidades nombradas encontradas\n",
    "en un texto.\n",
    "\n",
    "El reconocimiento de entidades nombradas a menudo se divide\n",
    "conceptualmente en dos problemas distintos: deteccion de nombres,\n",
    "y clasificacion de los nombres segun el tipo de entidad al que hacen\n",
    "referencia.\n",
    "\n",
    "Una tercera fase que se desprende del reconocimiento y clasificacion de entidades nombradas se conoce como anotacion semantica\n",
    "donde se anota una entidad con una referencia a algun link de una base de conocimiento que contenga una\n",
    "definicion semantica de la entidad"
   ]
  },
  {
   "cell_type": "markdown",
   "id": "2683427a-2c6c-4379-85e7-dc59797593a6",
   "metadata": {},
   "source": [
    "### Conclusion:\n",
    "\n",
    "A lo largo del trabajo se aplicaron ciertas tecnicas de curacion y limpieza de datos que nos permitio eliminar gran cantidad de ruido que tenia el corpus original. Utilizamos los metodos que nos proveia NLTK y con eso solo, no alcanza, si no que hay que aplicar algunas transformaciones aparte. \n",
    "* Con respecto a los metodos de tokenizacion que brinda la libreria, algunos funcionan mejor que otros para determinados objetivos, pero el que terminamos utilizando, fue el que vimos que eliminaba mejor los signos de puntuacion. \n",
    "* En el caso de los stopwords, la lista de palabras a eliminar nos parecio insuficiente asi que tuvimos que descargar una lista de un repositorio publico y recien ahi observamos una mejor limpieza.\n",
    "* Otra cosa que creemos que funciono muy bien, fue la eliminacion de palabras con una longitud menor a 3, que por lo general eran palabras que no estaban incluidas en los stopwords u errores de ortografia.\n",
    "* Con respecto a la lemmatizacion y el stemming, nosotros observamos mejores resultados con el stemming debido a que NLTK no posee un metodo de lemmatizacion optimizados para el español y si posee para el stemming. \n",
    "* Cuando realizamos el analisis por fuero, no aplicamos la lemmatizacion por lo mencionado anteriomente entonces no creiamos que fuera a aportar resultados valiosos.\n",
    "\n",
    "Una vez aplicados todos estos cambios, pudimos ver tanto en el corpus completo como en cada fuero, que ya no hay tanto ruido (se deja de cumplir la ley de Zipf para mas de 2 palabras) y se observan palabras mas vinculadas con cada fuero, por ejemplo en el fuero familia, 2 de las palabras mas frecuentes son \"niño\" y \"alimentaria\" lo cual tiene sentido. \n",
    "Lo que no se realizo pero seria interesante, es el tratamiento de los numeros. Nosotros creemos que estos pueden ser relevantes en determinados contextos y en otros, no deberian aportar informacion. \n",
    "Lo mismo pasa con las fechas, seria interesante ver, cuales estan relacionadas con leyes o articulos para poder determinar si los mismos son obsoletos o no.\n"
   ]
  },
  {
   "cell_type": "code",
   "execution_count": null,
   "id": "e35ee984-1663-4099-b204-1a1b4eb72919",
   "metadata": {},
   "outputs": [],
   "source": []
  }
 ],
 "metadata": {
  "kernelspec": {
   "display_name": "Python 3",
   "language": "python",
   "name": "python3"
  },
  "language_info": {
   "codemirror_mode": {
    "name": "ipython",
    "version": 3
   },
   "file_extension": ".py",
   "mimetype": "text/x-python",
   "name": "python",
   "nbconvert_exporter": "python",
   "pygments_lexer": "ipython3",
   "version": "3.8.10"
  }
 },
 "nbformat": 4,
 "nbformat_minor": 5
}
