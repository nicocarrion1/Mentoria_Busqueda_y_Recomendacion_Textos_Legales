{
 "cells": [
  {
   "cell_type": "markdown",
   "id": "ca17c60f-fa89-45c9-bb3d-c78fcf908612",
   "metadata": {},
   "source": [
    "\n",
    "Universidad Nacional de Córdoba - Facultad de Matemática, Astronomía, Física y Computación\n",
    "Diplomatura en Ciencia de Datos, Aprendizaje Automático y sus Aplicaciones 2021\n",
    "Búsqueda y Recomendación para Textos Legales\n",
    "\n",
    "Mentor: Jorge E. Pérez Villella\n",
    "\n",
    "Práctico Análisis y Visualización\n",
    "Integrantes:\n",
    "\n",
    "Objetivos:\n",
    "Normalizar el corpus generado en el práctico anterior, teniendo en cuenta los siguientes aspectos:\n",
    "\n",
    "tokenización,\n",
    "pasar a minúsculas,\n",
    "separar puntuación,\n",
    "stemming y lematización,\n",
    "eliminar stopwords (o no),\n",
    "eliminar las palabras con frecuencia menor a n.\n",
    "Analizar las palabras más frecuentes de todo el corpus, por fuero y de 5 documentos. Compararlo con el resultado obtenido en el ejercicio anterior. Se observa algún cambio significativo?\n",
    "\n",
    "Hacer una explicación con ejemplos tomando algunas palabras al azar entre lo que es stemming y lemmatizing para entender que nos da cada uno de estos procesos y cual es conveniente utilizar en cada caso.\n",
    "\n",
    "Opcional:\n",
    "\n",
    "Investigar que es Segmentación y compararlo con Tokenización. Ejemplificar con un documento.\n",
    "Investigar NER (Named Entity Recognition - Reconocimiento de Entitades Nombradas). Buscar las Entidadas Nombradas mas frecuentes en todo el corpus y por fuero.\n",
    "Fecha de Entrega: 4 de julio de 2021\n",
    "\n"
   ]
  },
  {
   "cell_type": "code",
   "execution_count": 2,
   "id": "761c8e69-e4b7-4640-8a23-5b29104f9ed3",
   "metadata": {},
   "outputs": [],
   "source": [
    "import pandas as pd\n",
    "import seaborn as sns\n",
    "import os\n",
    "import nltk\n",
    "import matplotlib.pyplot as plt"
   ]
  },
  {
   "cell_type": "code",
   "execution_count": 3,
   "id": "3bcf9162-96d3-4d23-883f-c7f9f2436813",
   "metadata": {},
   "outputs": [],
   "source": [
    "dirname= \"Corpus.txt\"\n",
    "\n",
    "f = open (dirname,'r', encoding=\"utf-8\")\n",
    "corpus=f.read()\n"
   ]
  },
  {
   "cell_type": "markdown",
   "id": "508efee2-079c-4de9-9880-dcf11b851d1b",
   "metadata": {},
   "source": [
    "Hay varios tokenizadores de acuerdo a el objetivo especifico que tengamos (Completar):\n",
    "\n",
    "-WordSentTokenize\n",
    "\n",
    "-WordPunctTokenizer\n",
    "\n",
    "-WordTokenize"
   ]
  },
  {
   "cell_type": "code",
   "execution_count": 4,
   "id": "ee3443ab-7734-4375-87dd-a70b4dcb72d4",
   "metadata": {},
   "outputs": [],
   "source": [
    "#Se generan los tokens sin signos de puntuacion\n",
    "from nltk.tokenize import RegexpTokenizer\n",
    "from nltk.corpus import stopwords\n",
    "tokenizer = RegexpTokenizer(r'\\w+')\n",
    "tokens=tokenizer.tokenize(corpus)\n",
    "tokens=tokens[:10000]"
   ]
  },
  {
   "cell_type": "markdown",
   "id": "5d107395-68d4-4e5d-80d0-07da168e3270",
   "metadata": {},
   "source": [
    "Stopword el nombre que reciben las palabras sin significado como artículos, pronombres, preposiciones, etc (como \"el\", \"a\", \"una\", \"en\") que un motor de búsqueda ha sido programado para ignorar, tanto al indexar entradas para buscarlas como al recuperarlas. como resultado de una consulta de búsqueda. "
   ]
  },
  {
   "cell_type": "code",
   "execution_count": 5,
   "id": "33d35197-dd76-4ef9-b292-24b23734eb3a",
   "metadata": {},
   "outputs": [],
   "source": [
    "#Se les quitan los stopwords\n",
    "clean_tokens = tokens[:]\n",
    "\n",
    "for token in tokens:\n",
    "\n",
    "    if token in stopwords.words('spanish'):\n",
    "\n",
    "        clean_tokens.remove(token)\n"
   ]
  },
  {
   "cell_type": "markdown",
   "id": "630e0380-9995-4c54-8cca-db55256d30b4",
   "metadata": {},
   "source": [
    "Se los pasa a minuscula"
   ]
  },
  {
   "cell_type": "code",
   "execution_count": 6,
   "id": "cdcc9469-51d7-4433-9c6d-90708c5f1c5f",
   "metadata": {},
   "outputs": [
    {
     "data": {
      "text/plain": [
       "['auto',\n",
       " '122',\n",
       " 't',\n",
       " '2',\n",
       " 'f',\n",
       " '547',\n",
       " '552',\n",
       " 'córdoba',\n",
       " 'veinticuatro',\n",
       " 'septiembre',\n",
       " 'dos',\n",
       " 'mil',\n",
       " 'dieciocho',\n",
       " 'y',\n",
       " 'vistos',\n",
       " 'estos',\n",
       " 'autos',\n",
       " 'caratulados',\n",
       " 'a',\n",
       " 'm']"
      ]
     },
     "execution_count": 6,
     "metadata": {},
     "output_type": "execute_result"
    }
   ],
   "source": [
    "tokens_lower = [word.lower() for word in clean_tokens ]\n",
    "tokens_lower[:20]"
   ]
  },
  {
   "cell_type": "markdown",
   "id": "026f6d6e-79f2-4ebf-a11c-627f94725f41",
   "metadata": {},
   "source": [
    "El stemming consiste en quitar y reemplazar sufijos de la raíz de la palabra.Ej: La raíz de la palabra trabajando = > trabajo.\n",
    "\n",
    "Los motores de búsqueda utilizan esta técnica al indexar páginas, puesto que muchas personas escriben versiones diferentes para la misma palabra y todas derivan de la palabra raíz.\n",
    "\n",
    "Hay distintos metodos:\n",
    "\n",
    "-PorterStemmer: Es el mas popular pero funciona mejor con palabras en Ingles\n",
    "\n",
    "-LancasterStemmer\n",
    "\n"
   ]
  },
  {
   "cell_type": "code",
   "execution_count": 7,
   "id": "07edda0e-6fb6-4970-b659-e191c57bfa03",
   "metadata": {},
   "outputs": [
    {
     "data": {
      "text/plain": [
       "['aut',\n",
       " '122',\n",
       " 't',\n",
       " '2',\n",
       " 'f',\n",
       " '547',\n",
       " '552',\n",
       " 'cordob',\n",
       " 'veinticuatr',\n",
       " 'septiembr',\n",
       " 'dos',\n",
       " 'mil',\n",
       " 'diecioch',\n",
       " 'y',\n",
       " 'vist',\n",
       " 'estos',\n",
       " 'aut',\n",
       " 'caratul',\n",
       " 'a',\n",
       " 'm']"
      ]
     },
     "execution_count": 7,
     "metadata": {},
     "output_type": "execute_result"
    }
   ],
   "source": [
    "from nltk.stem import SnowballStemmer\n",
    "\n",
    "spanish_stemmer = SnowballStemmer('spanish')\n",
    "\n",
    "\n",
    "# from nltk.stem import PorterStemmer\n",
    "\n",
    "# stemmer = PorterStemmer()\n",
    "\n",
    "\n",
    "tokens_stemm=[spanish_stemmer.stem(word) for word in tokens_lower]\n",
    "tokens_stemm[:20]"
   ]
  },
  {
   "cell_type": "markdown",
   "id": "cfc97723-a8e0-4abb-801c-8465c75df1d8",
   "metadata": {},
   "source": [
    "La lemmatización implica hacer un análisis del vocabulario y su morfología para retornar la forma básica de la palabra (sin conjugar, en singular, etc).\n",
    "El problema es que al menos hasta la fecha NLTK no tiene incorporada lemmatización para español."
   ]
  },
  {
   "cell_type": "code",
   "execution_count": 8,
   "id": "7942c1f8-727f-41d6-a7ff-9e8affac0932",
   "metadata": {},
   "outputs": [
    {
     "data": {
      "text/plain": [
       "['aut',\n",
       " '122',\n",
       " 't',\n",
       " '2',\n",
       " 'f',\n",
       " '547',\n",
       " '552',\n",
       " 'cordob',\n",
       " 'veinticuatr',\n",
       " 'septiembr',\n",
       " 'do',\n",
       " 'mil',\n",
       " 'diecioch',\n",
       " 'y',\n",
       " 'vist',\n",
       " 'estos',\n",
       " 'aut',\n",
       " 'caratul',\n",
       " 'a',\n",
       " 'm']"
      ]
     },
     "execution_count": 8,
     "metadata": {},
     "output_type": "execute_result"
    }
   ],
   "source": [
    "from nltk.stem import WordNetLemmatizer\n",
    "\n",
    "lemmatizer = WordNetLemmatizer()\n",
    "\n",
    "tokens_lem=[lemmatizer.lemmatize(word) for word in tokens_stemm]\n",
    "tokens_lem[:20]\n"
   ]
  },
  {
   "cell_type": "code",
   "execution_count": 9,
   "id": "cf404a11-c251-4413-80cc-12ee41f92988",
   "metadata": {},
   "outputs": [
    {
     "data": {
      "text/plain": [
       "1395"
      ]
     },
     "execution_count": 9,
     "metadata": {},
     "output_type": "execute_result"
    },
    {
     "data": {
      "image/png": "[encoded data removed]",
      "text/plain": [
       "<Figure size 720x432 with 1 Axes>"
      ]
     },
     "metadata": {
      "needs_background": "light"
     },
     "output_type": "display_data"
    }
   ],
   "source": [
    "def tokens2dataframe(tokens):\n",
    "    freq = nltk.FreqDist(tokens)\n",
    "    data = pd.DataFrame(freq.items(), columns=['Token', 'Frecuencia']).sort_values(by=\"Frecuencia\", ascending=False)\n",
    "    return data\n",
    "def graph_frequency(dataframe):\n",
    "    plt.figure(figsize=(10,6))\n",
    "    sns.barplot(x=dataframe[:15].Token, y=dataframe[:15].Frecuencia, color='skyblue')\n",
    "    plt.xticks(rotation=90)\n",
    "    sns.despine()\n",
    "data=tokens2dataframe(tokens_lem)\n",
    "graph_frequency(data)\n",
    "len(data)"
   ]
  },
  {
   "cell_type": "code",
   "execution_count": 12,
   "id": "6134e2ca-508f-4002-8274-c344592d3d2f",
   "metadata": {
    "tags": []
   },
   "outputs": [
    {
     "data": {
      "text/plain": [
       "122"
      ]
     },
     "execution_count": 12,
     "metadata": {},
     "output_type": "execute_result"
    },
    {
     "data": {
      "image/png": "[encoded data removed]",
      "text/plain": [
       "<Figure size 720x432 with 1 Axes>"
      ]
     },
     "metadata": {
      "needs_background": "light"
     },
     "output_type": "display_data"
    }
   ],
   "source": [
    "def delete_low_frecuency_words(dataframe, n):\n",
    "    return dataframe[dataframe['Frecuencia']>n]\n",
    "data= delete_low_frecuency_words(data,10)\n",
    "graph_frequency(data)\n",
    "len(data)"
   ]
  },
  {
   "cell_type": "code",
   "execution_count": null,
   "id": "2b9a79a6-ee29-4f45-a5fb-cc1bff1340af",
   "metadata": {},
   "outputs": [],
   "source": []
  }
 ],
 "metadata": {
  "kernelspec": {
   "display_name": "Python 3",
   "language": "python",
   "name": "python3"
  },
  "language_info": {
   "codemirror_mode": {
    "name": "ipython",
    "version": 3
   },
   "file_extension": ".py",
   "mimetype": "text/x-python",
   "name": "python",
   "nbconvert_exporter": "python",
   "pygments_lexer": "ipython3",
   "version": "3.8.10"
  }
 },
 "nbformat": 4,
 "nbformat_minor": 5
}
